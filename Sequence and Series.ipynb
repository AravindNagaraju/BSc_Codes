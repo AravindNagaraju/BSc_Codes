{
 "cells": [
  {
   "cell_type": "markdown",
   "id": "3e1ef32c",
   "metadata": {},
   "source": [
    "# Convergent, divergent and oscillatory sequences"
   ]
  },
  {
   "cell_type": "markdown",
   "id": "c3ff6d78",
   "metadata": {},
   "source": [
    "Definitions:\n",
    "1. A sequence $\\{x_n\\}$ is said to be convergent if the sequence tends to a finite quantity, say $l$.\n",
    "2. A sequence $\\{x_n\\}$ is said to be divergent if the limit of the sequence is infinite (positive or negative).\n",
    "3. A sequence $\\{x_n\\}$ is said to be oscillatory if the the sequence neither tends to a unique finite limit nor to $\\infty$ or $-\\infty$."
   ]
  },
  {
   "cell_type": "code",
   "execution_count": null,
   "id": "c834e44b",
   "metadata": {},
   "outputs": [],
   "source": [
    "from sympy import *\n",
    "from sympy.core.function import UndefinedFunction\n",
    "n = Symbol('n');\n",
    "expr = input(\"Enter the Expression: \");\n",
    "print(f\"The given sequence is {expr}.\");\n",
    "L = limit(expr, n, oo);\n",
    "if abs(L) == oo:\n",
    "    print(\"Sequence is Divergent.\")\n",
    "elif abs(L) < oo:\n",
    "    print(\"Sequence in Convergent.\")\n",
    "else:\n",
    "    print(\"The sequence is Oscillatory.\")"
   ]
  },
  {
   "cell_type": "markdown",
   "id": "372f087b",
   "metadata": {},
   "source": [
    "[Note](https://docs.sympy.org/latest/modules/series/limitseq.html#sympy.series.limitseq.limit_seq) : The algorithm is designed for sequences built from rational functions, indefinite sums, and indefinite products over an indeterminate n. Terms of alternating sign are also allowed, but more complex oscillatory behavior is not supported."
   ]
  },
  {
   "cell_type": "markdown",
   "id": "8b845231",
   "metadata": {},
   "source": [
    "# D'Alembert's ratio test and Rabee's test"
   ]
  },
  {
   "cell_type": "code",
   "execution_count": null,
   "id": "6dd0e75f",
   "metadata": {},
   "outputs": [],
   "source": [
    "from sympy import *\n",
    "n = Symbol('n')\n",
    "expr = input(\"Enter the nth term of the series\")\n",
    "def u(n):\n",
    "    return simplify(expr)\n",
    "\n",
    "print(f'The given series is {u(n)}');\n",
    "ratio = u(n+1)/u(n);\n",
    "print(f'The ratio is {ratio}');\n",
    "\n",
    "L1 = limit(ratio, n, oo)\n",
    "print(f'The limit is {L1}')\n",
    "if L1 < 1 :\n",
    "    print(\"The series is convergent by D'Alembert's ratio test\")\n",
    "elif L1 > 1:\n",
    "    print(\"The series is divergent by D'Alembert's ratio test\")\n",
    "else:\n",
    "    print(\"D'Alembert's ratio test fails and we use Raabe's test to verify the convergence\");\n",
    "\n",
    "    L2 = limit(n*((u(n)/u(n+1)) - 1), n, oo);\n",
    "    print(\"The limit of the series using Rabee's test is {L2}\");\n",
    "    if L2 > 1:\n",
    "        print(\"The series is convergent by Rabee's test\");\n",
    "    elif L2 < 1:\n",
    "        print(\"The series is divergent by Rabee's test\");\n",
    "    else:\n",
    "        print(\"Both the tests fails!\")"
   ]
  },
  {
   "cell_type": "markdown",
   "id": "4c1c30c2",
   "metadata": {},
   "source": [
    "# Summation of Series"
   ]
  },
  {
   "cell_type": "code",
   "execution_count": null,
   "id": "10d882e0",
   "metadata": {},
   "outputs": [],
   "source": [
    "from sympy import *\n",
    "var('n x')\n",
    "s = input(\"Enter the series :\");\n",
    "sum1 = Sum(s, (n, 1, oo)).evalf()\n",
    "print(f'Sum to infinity if the given series is {sum1}');"
   ]
  },
  {
   "cell_type": "code",
   "execution_count": null,
   "id": "a59822b3",
   "metadata": {},
   "outputs": [],
   "source": [
    "from sympy import *\n",
    "var('n')\n",
    "x = Symbol('x')\n",
    "s = input(\"Enter the series :\");\n",
    "sum1 = Sum(s, (n, 1, oo)).evalf()\n",
    "print(f'Sum to infinity if the given series is {sum1}');"
   ]
  }
 ],
 "metadata": {
  "kernelspec": {
   "display_name": "Python 3",
   "language": "python",
   "name": "python3"
  },
  "language_info": {
   "codemirror_mode": {
    "name": "ipython",
    "version": 3
   },
   "file_extension": ".py",
   "mimetype": "text/x-python",
   "name": "python",
   "nbconvert_exporter": "python",
   "pygments_lexer": "ipython3",
   "version": "3.8.8"
  }
 },
 "nbformat": 4,
 "nbformat_minor": 5
}
