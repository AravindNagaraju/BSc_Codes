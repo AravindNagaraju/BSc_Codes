{
 "cells": [
  {
   "cell_type": "markdown",
   "id": "d54b2b5e",
   "metadata": {},
   "source": [
    "# Lagrange's Theorem"
   ]
  },
  {
   "cell_type": "markdown",
   "id": "b40acef9",
   "metadata": {},
   "source": [
    "Binary operation: Let $A$ be a non-empty set. Then a binary operation $∗$ on $A$ is a function $∗ : A × A \\to A$ defined by $∗(a, b) = a ∗ b$.\n",
    "\n",
    "In other words $∗$ is binary operation on a set $A$ if $a ∗ b ∈ A, ∀a, b ∈ A$. In this case we say that $A$ is closed under $∗$ or closure property holds in $A$ w.r.t $∗$.\n",
    "\n",
    "Group: A non-empty set $G$ with a binary operation $∗$, denoted by $(G, ∗)$, is said to be a group if the following properties (or axioms) are satisfied.\n",
    "1. Closure property: $a ∗ b ∈ G$ for any $a, b ∈ G$.\n",
    "2. Associate property: $(a ∗ b) ∗ c = a ∗ (b ∗ c)$ for any $a, b, c ∈ G$.\n",
    "3. Existence of identity element: There exists $e$ in $G$ such that $a ∗ e = e ∗ a = a$ for all $a ∈ G$.\n",
    "4. Existence of inverse element: For any $a$ in $G$ there exists $a^(-1)$ in G such that $a ∗ a^(-1) = a^(−1) ∗ a = e$.\n",
    "\n",
    "Further the group $(G, ∗)$ is called abelian (or commutative) group if along with above properties $a ∗ b = b ∗ a, ∀a, b ∈ G$, also holds. "
   ]
  },
  {
   "cell_type": "markdown",
   "id": "f05ef8ba",
   "metadata": {},
   "source": [
    "## Lagrange’s theorem statement\n",
    "***If G is any finite group and H is any subgroup of G, then O(H) divides O(G).***"
   ]
  },
  {
   "cell_type": "markdown",
   "id": "060b7c1d",
   "metadata": {},
   "source": [
    "Examples to verify Lagrange’s theorem"
   ]
  },
  {
   "cell_type": "code",
   "execution_count": 1,
   "id": "95be698f",
   "metadata": {},
   "outputs": [
    {
     "name": "stdout",
     "output_type": "stream",
     "text": [
      "H is closed under multiplication\n",
      "\n",
      "e = 1 is an unique identity element\n",
      "e = 1 is an unique identity element\n",
      "H satisfies all the three axioms under multiplication \n",
      "\n",
      "Hence H is a group \n",
      "\n",
      "H is subset of group G implies H is subgroup of G \n",
      "\n",
      "Lagranges theorem: O(H) divides O(G) \n",
      "\n",
      "order of G = 4\n",
      "\n",
      "order of H = 2 \n",
      "\n",
      "O(G)/O(H) = 2\n",
      "\n",
      "Hence Lagranges theorem holds.\n",
      "\n"
     ]
    }
   ],
   "source": [
    "from numpy import *\n",
    "\n",
    "G = array([1, -1, 1j, -1j])\n",
    "H = array([1, -1])\n",
    "\n",
    "i = 0\n",
    "F1 = 0          # Assuming that H is not a subgroup\n",
    "\n",
    "if H[i]*H[i + 1] == H[i] or H[i]*H[i+1] == H[i + 1] and H[i]*H[i] == H[i] or H[i]*H[i] == H[i + 1] and H[i + 1]*H[i + 1] == H[i] or H[i + 1]*H[i + 1] == H[i + 1] :\n",
    "    print(\"H is closed under multiplication\\n\")\n",
    "    F1 = 1\n",
    "else:\n",
    "    print(\"H is not closed and hence H is not a group.\\n\")\n",
    "    \n",
    "\n",
    "\n",
    "if H[i]*H[i] == H[i] and H[i+1]*H[i] == H[i+1]:\n",
    "    e = H[i]\n",
    "    print(f'e = {H[i]} is an unique identity element')\n",
    "    F1 = 1\n",
    "elif H[i]*H[i+1] == H[i] and H[i+1]*H[i+1] == H[i+1]:\n",
    "    print(f'e = {H[i+1]} is an unique identity element')\n",
    "    F1 = 1\n",
    "else:\n",
    "    print(\"No identity element exists.\\n H is not a Group.\")\n",
    "    \n",
    "    \n",
    "\n",
    "if H[i]*H[i] == H[i] and H[i+1]*H[i] == H[i+1]:\n",
    "    e = H[i]\n",
    "    print(f'e = {H[i]} is an unique identity element')\n",
    "    F1 = 1\n",
    "elif H[i]*H[i+1] == H[i] and H[i+1]*H[i+1] == H[i+1]:\n",
    "    print(f'e = {H[i+1]} is an unique identity element')\n",
    "    F1 = 1\n",
    "else:\n",
    "    print(\"No identity element exists.\\n H is not a Group.\")\n",
    "    \n",
    "    \n",
    "    \n",
    "if F1 == 1:\n",
    "    print(\"H satisfies all the three axioms under multiplication \\n\");\n",
    "    print(\"Hence H is a group \\n\")\n",
    "    print(\"H is subset of group G implies H is subgroup of G \\n\");\n",
    "else:\n",
    "    print(\"H is not a subgroup of G.\")\n",
    "    \n",
    "print(\"Lagranges theorem: O(H) divides O(G) \\n\");\n",
    "\n",
    "\n",
    "\n",
    "n=len(G);\n",
    "m=len(H);\n",
    "print(f\"order of G = {n}\\n\");\n",
    "print(f\"order of H = {m} \\n\");\n",
    "k = int(n / m);\n",
    "\n",
    "if mod(n,m) == 0:\n",
    "    print(f\"O(G)/O(H) = {k}\")\n",
    "    print(\"\\nHence Lagranges theorem holds.\\n\");\n",
    "else:\n",
    "    print(f\"{k} is not divisor \\n\");\n",
    "    print(\"Hence Lagranges theorem does not hold.\\n\");"
   ]
  },
  {
   "cell_type": "markdown",
   "id": "90e3f8af",
   "metadata": {},
   "source": [
    "Examples for finding right and left coset and the index of a group. "
   ]
  },
  {
   "cell_type": "code",
   "execution_count": 2,
   "id": "3ac21e38",
   "metadata": {},
   "outputs": [
    {
     "name": "stdout",
     "output_type": "stream",
     "text": [
      "Index of a group is 3 \n",
      "\n",
      "The distinct left cosets are \n",
      " [[0. 3. 6.]\n",
      " [1. 4. 7.]\n",
      " [2. 5. 8.]]\n",
      "The distinct right cosets are \n",
      " [[0. 3. 6.]\n",
      " [1. 4. 7.]\n",
      " [2. 5. 8.]]\n"
     ]
    }
   ],
   "source": [
    "from numpy import *\n",
    "Z = arange(0, 9);\n",
    "H = array([0, 3, 6])\n",
    "m=len(Z);\n",
    "n=len(H);\n",
    "I = int(m/n);\n",
    "print(f\"Index of a group is {I} \\n\");\n",
    "\n",
    "YL = empty((I, n))\n",
    "for i in arange(n):\n",
    "    YL[0,i] = H[i];\n",
    "for i in arange(1, I):\n",
    "    for j in arange(0, n):\n",
    "        YL[i, j] = mod(i + H[j], m)\n",
    "        if YL[i,j] == YL[0, 0] or YL[i,j] == YL[0, 1] or YL[i,j] == YL[0, n-1]:\n",
    "            break\n",
    "print(f'The distinct left cosets are \\n {YL}');\n",
    "\n",
    "YR = empty((I, n))\n",
    "for i in arange(n):\n",
    "    YR[0,i] = H[i];\n",
    "for i in arange(1, I):\n",
    "    for j in arange(0, n):\n",
    "        YR[i, j] = mod(H[j] + i, m)\n",
    "        if YR[i,j] == YR[0, 0] or YR[i,j] == YR[0, 1] or YR[i,j] == YR[0, n-1]:\n",
    "            break\n",
    "print(f'The distinct right cosets are \\n {YR}');"
   ]
  }
 ],
 "metadata": {
  "kernelspec": {
   "display_name": "Python 3",
   "language": "python",
   "name": "python3"
  },
  "language_info": {
   "codemirror_mode": {
    "name": "ipython",
    "version": 3
   },
   "file_extension": ".py",
   "mimetype": "text/x-python",
   "name": "python",
   "nbconvert_exporter": "python",
   "pygments_lexer": "ipython3",
   "version": "3.8.8"
  }
 },
 "nbformat": 4,
 "nbformat_minor": 5
}
