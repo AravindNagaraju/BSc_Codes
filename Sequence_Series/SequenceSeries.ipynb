{
 "cells": [
  {
   "cell_type": "markdown",
   "id": "e093ffaf",
   "metadata": {},
   "source": [
    "# Limit of a Sequence"
   ]
  },
  {
   "cell_type": "code",
   "execution_count": 22,
   "id": "c58a317d",
   "metadata": {},
   "outputs": [
    {
     "name": "stdout",
     "output_type": "stream",
     "text": [
      "Enter the Expression: (1+2*10**n)/(5+3*10**n)\n",
      "The given sequence is (1+2*10**n)/(5+3*10**n).\n"
     ]
    },
    {
     "data": {
      "text/latex": [
       "$\\displaystyle \\frac{2}{3}$"
      ],
      "text/plain": [
       "2/3"
      ]
     },
     "execution_count": 22,
     "metadata": {},
     "output_type": "execute_result"
    }
   ],
   "source": [
    "from sympy import *\n",
    "n = Symbol('n');\n",
    "expr = input(\"Enter the Expression: \");\n",
    "print(f\"The given sequence is {expr}.\");\n",
    "L = limit(expr, n, oo);\n",
    "L"
   ]
  },
  {
   "cell_type": "markdown",
   "id": "db0c09b4",
   "metadata": {},
   "source": [
    "1. $(1+2*10**n)/(5+3*10**n)$\n",
    "2. $(3 + 2*sqrt(n))/sqrt(n)$\n",
    "3. $(1 + 2*10**n)/(5 + 3*10**n)$\n",
    "4. $(3*n + 1)*(n+1)/(n*(n-1))$"
   ]
  },
  {
   "cell_type": "markdown",
   "id": "3e1ef32c",
   "metadata": {},
   "source": [
    "# Convergent, divergent and sequences"
   ]
  },
  {
   "cell_type": "markdown",
   "id": "c3ff6d78",
   "metadata": {},
   "source": [
    "Definitions:\n",
    "1. A sequence $\\{x_n\\}$ is said to be convergent if the sequence tends to a finite quantity, say $l$.\n",
    "2. A sequence $\\{x_n\\}$ is said to be divergent if the limit of the sequence is infinite (positive or negative).\n",
    "3. A sequence $\\{x_n\\}$ is said to be oscillatory if the the sequence neither tends to a unique finite limit nor to $\\infty$ or $-\\infty$."
   ]
  },
  {
   "cell_type": "code",
   "execution_count": 23,
   "id": "c834e44b",
   "metadata": {},
   "outputs": [
    {
     "name": "stdout",
     "output_type": "stream",
     "text": [
      "Enter the Expression: ((n+1)/(n-1))**n\n",
      "The given sequence is ((n+1)/(n-1))**n.\n",
      "Sequence in Convergent.\n",
      "Limit of the sequence is  exp(2)\n"
     ]
    }
   ],
   "source": [
    "from sympy import *\n",
    "n = Symbol('n');\n",
    "expr = input(\"Enter the Expression: \");\n",
    "print(f\"The given sequence is {expr}.\");\n",
    "L = limit(expr, n, oo);\n",
    "if abs(L) == oo:\n",
    "    print(\"Sequence is Divergent.\")\n",
    "    print(\"Limit of the sequence is \", L)\n",
    "else:\n",
    "    print(\"Sequence in Convergent.\")\n",
    "    print(\"Limit of the sequence is \", L)"
   ]
  },
  {
   "cell_type": "markdown",
   "id": "0167ad83",
   "metadata": {},
   "source": [
    "1. $((n+1)/(n-1))**n$\n",
    "2. $((2*n**2 + 3*n + 5)/(n+3))*sin(pi/n)$"
   ]
  },
  {
   "cell_type": "markdown",
   "id": "372f087b",
   "metadata": {},
   "source": [
    "[Note](https://docs.sympy.org/latest/modules/series/limitseq.html#sympy.series.limitseq.limit_seq) : The algorithm is designed for sequences built from rational functions, indefinite sums, and indefinite products over an indeterminate n. Terms of alternating sign are also allowed, but more complex oscillatory behavior is not supported."
   ]
  },
  {
   "cell_type": "markdown",
   "id": "544b9467",
   "metadata": {},
   "source": [
    "# Behaviour of Infinite Series"
   ]
  },
  {
   "cell_type": "markdown",
   "id": "49a37782",
   "metadata": {},
   "source": [
    "Let $\\sum{a_n}$ be a series and $\\{S_n\\}$ be the sequence of partial sums, then\n",
    "\n",
    "1. The series $\\sum{a_n}$ is convergent if the sequence $\\{S_n\\}$ of its partial sums converges.\n",
    "2. The series $\\sum{a_n}$ is divergent if the sequence $\\{S_n\\}$ of its partial sums diverges.\n",
    "3. The series $\\sum{a_n}$ is oscillates finitely, if the sequence $\\{S_n\\}$ oscillates finitely.\n",
    "4. The series $\\sum{a_n}$ is oscillates infinitely, if the sequence $\\{S_n\\}$ oscillates infinitely."
   ]
  },
  {
   "cell_type": "markdown",
   "id": "f338e3a4",
   "metadata": {},
   "source": [
    "## One of the Comparision Tests"
   ]
  },
  {
   "cell_type": "code",
   "execution_count": 24,
   "id": "2a449a28",
   "metadata": {},
   "outputs": [
    {
     "name": "stdout",
     "output_type": "stream",
     "text": [
      "Enter the nth term of the series a: sqrt(n)/(2*n+3)\n",
      "Enter the nth term of the series b: 1/sqrt(n)\n",
      "Both series a and b converge and diverge together.\n",
      "Use p-series to find convergence/divergence of bn\n",
      "Enter the value of p: 1/2\n",
      "Series bn is divergent using p-series.\n",
      "Hence series an is also divergent.\n"
     ]
    }
   ],
   "source": [
    "from sympy import *\n",
    "n, i = symbols('n i')\n",
    "an = factor(input(\"Enter the nth term of the series a: \"));\n",
    "bn = factor(input(\"Enter the nth term of the series b: \"));\n",
    "S = an/bn\n",
    "L = limit(S, n, oo);\n",
    "if L != 0:\n",
    "    print(\"Both series a and b converge and diverge together.\")\n",
    "    print(\"Use p-series to find convergence/divergence of bn\")\n",
    "    p = input(\"Enter the value of p: \")\n",
    "    if factor(p) > 1:\n",
    "         print(\"Series bn is Convergent using p-series.\")\n",
    "         print(\"Hence series an is also convergent.\")\n",
    "    elif factor(p) <= 1:\n",
    "         print(\"Series bn is divergent using p-series.\")\n",
    "         print(\"Hence series an is also divergent.\")\n",
    "else:\n",
    "    print(\"Series a and b neither converge nor diverge together.\")"
   ]
  },
  {
   "cell_type": "markdown",
   "id": "e5ddf68c",
   "metadata": {},
   "source": [
    "1. $1/(n**(1+1/n))$\n",
    "2. $(2*n - 1)/(n*(n+1)*(n+2))$\n",
    "3. $1/(sqrt(n)*sqrt(n+1))$"
   ]
  },
  {
   "cell_type": "markdown",
   "id": "8b845231",
   "metadata": {},
   "source": [
    "## D'Alembert's ratio test and Rabee's test"
   ]
  },
  {
   "cell_type": "markdown",
   "id": "ad65b3a4",
   "metadata": {},
   "source": [
    "**D'Alembert's Ratio Test**: Let $\\sum{a_n}$ be a series of positive terms such that $\\lim_{n\\to\\infty}\\dfrac{a_{n+1}}{a_n}=l$, then the series \n",
    "\n",
    "1. Converges if $l < 1$.\n",
    "2. Diverges if $l > 1$.\n",
    "3. The test fails if $l = 1$.\n",
    "\n",
    "\n",
    "**Rabee's Test**: Let $\\sum{a_n}$ be a series of positive terms such that $\\lim_{n\\to\\infty} n\\left(\\dfrac{a_{n}}{a_{n + 1}} - 1\\right) = l$, then\n",
    "\n",
    "1. $\\sum{a_n}$ is convergent if $l > 1$.\n",
    "2. $\\sum{a_n}$ is divergent if $l < 1$."
   ]
  },
  {
   "cell_type": "code",
   "execution_count": 26,
   "id": "bb2f1e4d",
   "metadata": {},
   "outputs": [
    {
     "name": "stdout",
     "output_type": "stream",
     "text": [
      "Enter the nth term of the series(n**2 * (n+1)**2)/(factorial(n))\n",
      "The given series is n**2*(n + 1)**2/factorial(n)\n",
      "The ratio is (n + 2)**2*factorial(n)/(n**2*factorial(n + 1))\n",
      "The limit is 0\n",
      "The series is convergent by D'Alembert's ratio test\n"
     ]
    }
   ],
   "source": [
    "from sympy import *\n",
    "n = Symbol('n')\n",
    "expr = input(\"Enter the nth term of the series\")\n",
    "\n",
    "u = Lambda(n, expr)\n",
    "\n",
    "print(f'The given series is {u(n)}');\n",
    "ratio = u(n+1)/u(n);\n",
    "print(f'The ratio is {ratio}');\n",
    "\n",
    "L1 = limit(ratio, n, oo)\n",
    "print(f'The limit is {L1}')\n",
    "if L1 < 1 :\n",
    "    print(\"The series is convergent by D'Alembert's ratio test\")\n",
    "elif L1 > 1:\n",
    "    print(\"The series is divergent by D'Alembert's ratio test\")\n",
    "else:\n",
    "    print(\"D'Alembert's ratio test fails and we use Raabe's test to verify the convergence\");\n",
    "\n",
    "    L2 = limit(n*((u(n)/u(n+1)) - 1), n, oo);\n",
    "    print(f\"The limit of the series using Rabee's test is {L2}\");\n",
    "    if L2 > 1:\n",
    "        print(\"The series is convergent by Rabee's test\");\n",
    "    elif L2 < 1:\n",
    "        print(\"The series is divergent by Rabee's test\");\n",
    "    else:\n",
    "        print(\"Both the tests fails!\")"
   ]
  },
  {
   "cell_type": "markdown",
   "id": "bd05858c",
   "metadata": {},
   "source": [
    "1. $(n**2 * (n+1)**2)/(factorial(n))$\n",
    "2. $5**n/(2**n + 5)$\n",
    "3. $(2*n + 3)/((2*n - 1)*(2*n)*(2*n + 1))$"
   ]
  },
  {
   "cell_type": "markdown",
   "id": "12a4caf7",
   "metadata": {},
   "source": [
    "## Cauchy's Root Test"
   ]
  },
  {
   "cell_type": "markdown",
   "id": "9d343ebc",
   "metadata": {},
   "source": [
    "If $\\sum{a_n}$ is a positive term series such that $\\lim_{n\\to\\infty}(a_n)^{\\frac{1}{n}} = l$, then the series \n",
    "\n",
    "* Converges if $l < 1$.\n",
    "* Diverges if $l > 1$.\n",
    "* The test fails to give any information if $l = 1$."
   ]
  },
  {
   "cell_type": "code",
   "execution_count": 27,
   "id": "ac637a9f",
   "metadata": {},
   "outputs": [
    {
     "name": "stdout",
     "output_type": "stream",
     "text": [
      "Enter the nth term of the series: (n-log(n))**n / (2**n * n**n)\n",
      "The given series converges. \n",
      "The limit value is :  1/2\n"
     ]
    }
   ],
   "source": [
    "from sympy import *\n",
    "n = Symbol('n');\n",
    "an = input(\"Enter the nth term of the series: \");\n",
    "exp = factor(an)**(1/n)\n",
    "L = limit(exp, n, oo);\n",
    "if L < 1:\n",
    "    print(\"The given series converges. \\nThe limit value is : \", L)\n",
    "elif L > 1:\n",
    "    print(\"The given series diverges. \\nThe limit value is : \", L)\n",
    "else:\n",
    "    print(\"The test fails to give any information since limit = 1.\")"
   ]
  },
  {
   "cell_type": "markdown",
   "id": "f69a2043",
   "metadata": {},
   "source": [
    "1. $(n-log(n))**n / (2**n * n**n)$\n",
    "2. $((n+1)/(3*n))**n$"
   ]
  },
  {
   "cell_type": "markdown",
   "id": "114c64fe",
   "metadata": {},
   "source": [
    "## Generalised Code"
   ]
  },
  {
   "cell_type": "code",
   "execution_count": 28,
   "id": "0196dbe5",
   "metadata": {},
   "outputs": [
    {
     "name": "stdout",
     "output_type": "stream",
     "text": [
      "Enter the nth term of the series a: ((n+1)/(3*n))**n\n",
      "Given series is Convergent.\n"
     ]
    }
   ],
   "source": [
    "from sympy import *\n",
    "n, i = symbols('n i')\n",
    "an = factor(input(\"Enter the nth term of the series a: \"));\n",
    "S = Sum(an, (n, 1, oo))\n",
    "if S.is_convergent() == True:\n",
    "    print(\"Given series is Convergent.\")\n",
    "else:\n",
    "    print(\"Given series is Divergent.\")"
   ]
  },
  {
   "cell_type": "markdown",
   "id": "4c1c30c2",
   "metadata": {},
   "source": [
    "# Summation of Series"
   ]
  },
  {
   "cell_type": "code",
   "execution_count": 29,
   "id": "10d882e0",
   "metadata": {},
   "outputs": [
    {
     "name": "stdout",
     "output_type": "stream",
     "text": [
      "Enter the series :(1/(n*(n+1)*(n+2)))*(1/2**n)\n"
     ]
    },
    {
     "data": {
      "text/latex": [
       "$\\displaystyle 0.0965735902799727$"
      ],
      "text/plain": [
       "0.0965735902799727"
      ]
     },
     "execution_count": 29,
     "metadata": {},
     "output_type": "execute_result"
    }
   ],
   "source": [
    "from sympy import *\n",
    "var('n')\n",
    "s = input(\"Enter the series :\");\n",
    "sum1 = Sum(s, (n, 1, oo)).evalf()\n",
    "print(sum1)"
   ]
  },
  {
   "cell_type": "code",
   "execution_count": 30,
   "id": "40550d4f",
   "metadata": {},
   "outputs": [
    {
     "data": {
      "text/latex": [
       "$\\displaystyle 0.0965735902799726$"
      ],
      "text/plain": [
       "0.0965735902799726"
      ]
     },
     "execution_count": 30,
     "metadata": {},
     "output_type": "execute_result"
    }
   ],
   "source": [
    "((-1/2)*log(1/2)-(1/4)).evalf()"
   ]
  }
 ],
 "metadata": {
  "kernelspec": {
   "display_name": "Python 3",
   "language": "python",
   "name": "python3"
  },
  "language_info": {
   "codemirror_mode": {
    "name": "ipython",
    "version": 3
   },
   "file_extension": ".py",
   "mimetype": "text/x-python",
   "name": "python",
   "nbconvert_exporter": "python",
   "pygments_lexer": "ipython3",
   "version": "3.8.8"
  }
 },
 "nbformat": 4,
 "nbformat_minor": 5
}
