{
 "cells": [
  {
   "cell_type": "code",
   "execution_count": 1,
   "id": "537ff381",
   "metadata": {
    "slideshow": {
     "slide_type": "-"
    }
   },
   "outputs": [
    {
     "name": "stdout",
     "output_type": "stream",
     "text": [
      "Enter the nth term of the series a: n/((2*n-1)*(2*n))\n",
      "Enter the nth term of the series b: 1/n\n",
      "Both series a and b converge and diverge together.\n",
      "Use p-series to find convergence/divergence of bn\n",
      "Enter the value of p: 1\n",
      "Series bn is divergent using p-series.\n",
      "Hence series an is also divergent.\n"
     ]
    }
   ],
   "source": [
    "from sympy import *\n",
    "n, i = symbols('n i')\n",
    "an = factor(input(\"Enter the nth term of the series a: \"));\n",
    "bn = factor(input(\"Enter the nth term of the series b: \"));\n",
    "S = an/bn\n",
    "L = limit(S, n, oo);\n",
    "if L != 0:\n",
    "    print(\"Both series a and b converge and diverge together.\")\n",
    "    print(\"Use p-series to find convergence/divergence of bn\")\n",
    "    p = input(\"Enter the value of p: \")\n",
    "    if factor(p) > 1:\n",
    "         print(\"Series bn is Convergent using p-series.\")\n",
    "         print(\"Hence series an is also convergent.\")\n",
    "    elif factor(p) <= 1:\n",
    "         print(\"Series bn is divergent using p-series.\")\n",
    "         print(\"Hence series an is also divergent.\")\n",
    "else:\n",
    "    print(\"Series a and b neither converge nor diverge together.\")"
   ]
  },
  {
   "cell_type": "code",
   "execution_count": 2,
   "id": "6bf0660d",
   "metadata": {},
   "outputs": [
    {
     "name": "stdout",
     "output_type": "stream",
     "text": [
      "Enter the nth term of the series a: 1/(sqrt(n)+sqrt(n+1))\n",
      "Enter the nth term of the series b: 1/sqrt(n)\n",
      "Both series a and b converge and diverge together.\n",
      "Use p-series to find convergence/divergence of bn\n",
      "Enter the value of p: 1/2\n",
      "Series bn is divergent using p-series.\n",
      "Hence series an is also divergent.\n"
     ]
    }
   ],
   "source": [
    "from sympy import *\n",
    "n, i = symbols('n i')\n",
    "an = factor(input(\"Enter the nth term of the series a: \"));\n",
    "bn = factor(input(\"Enter the nth term of the series b: \"));\n",
    "S = an/bn\n",
    "L = limit(S, n, oo);\n",
    "if L != 0:\n",
    "    print(\"Both series a and b converge and diverge together.\")\n",
    "    print(\"Use p-series to find convergence/divergence of bn\")\n",
    "    p = input(\"Enter the value of p: \")\n",
    "    if factor(p) > 1:\n",
    "         print(\"Series bn is Convergent using p-series.\")\n",
    "         print(\"Hence series an is also convergent.\")\n",
    "    elif factor(p) <= 1:\n",
    "         print(\"Series bn is divergent using p-series.\")\n",
    "         print(\"Hence series an is also divergent.\")\n",
    "else:\n",
    "    print(\"Series a and b neither converge nor diverge together.\")"
   ]
  },
  {
   "cell_type": "code",
   "execution_count": 3,
   "id": "bcd73e93",
   "metadata": {},
   "outputs": [
    {
     "name": "stdout",
     "output_type": "stream",
     "text": [
      "Enter the nth term of the series a: sqrt(n**4+1) - n**2\n",
      "Enter the nth term of the series b: 1/n**2\n",
      "Both series a and b converge and diverge together.\n",
      "Use p-series to find convergence/divergence of bn\n",
      "Enter the value of p: 2\n",
      "Series bn is Convergent using p-series.\n",
      "Hence series an is also convergent.\n"
     ]
    }
   ],
   "source": [
    "from sympy import *\n",
    "n, i = symbols('n i')\n",
    "an = factor(input(\"Enter the nth term of the series a: \"));\n",
    "bn = factor(input(\"Enter the nth term of the series b: \"));\n",
    "S = an/bn\n",
    "L = limit(S, n, oo);\n",
    "if L != 0:\n",
    "    print(\"Both series a and b converge and diverge together.\")\n",
    "    print(\"Use p-series to find convergence/divergence of bn\")\n",
    "    p = input(\"Enter the value of p: \")\n",
    "    if factor(p) > 1:\n",
    "         print(\"Series bn is Convergent using p-series.\")\n",
    "         print(\"Hence series an is also convergent.\")\n",
    "    elif factor(p) <= 1:\n",
    "         print(\"Series bn is divergent using p-series.\")\n",
    "         print(\"Hence series an is also divergent.\")\n",
    "else:\n",
    "    print(\"Series a and b neither converge nor diverge together.\")"
   ]
  },
  {
   "cell_type": "code",
   "execution_count": 5,
   "id": "45880c0e",
   "metadata": {},
   "outputs": [
    {
     "name": "stdout",
     "output_type": "stream",
     "text": [
      "Enter the nth term of the series a: (1/n)*(sin(1/n))\n",
      "Enter the nth term of the series b: 1/n**2\n",
      "Both series a and b converge and diverge together.\n",
      "Limit value is :  1\n",
      "Use p-series to find convergence/divergence of bn\n",
      "Enter the value of p: 2\n",
      "Series bn is Convergent using p-series.\n",
      "Hence series an is also convergent.\n"
     ]
    }
   ],
   "source": [
    "from sympy import *\n",
    "n, i = symbols('n i')\n",
    "an = factor(input(\"Enter the nth term of the series a: \"));\n",
    "bn = factor(input(\"Enter the nth term of the series b: \"));\n",
    "S = an/bn\n",
    "L = limit(S, n, oo);\n",
    "if L != 0:\n",
    "    print(\"Both series a and b converge and diverge together.\")\n",
    "    print(\"Limit value is : \", L)\n",
    "    print(\"Use p-series to find convergence/divergence of bn\")\n",
    "    p = input(\"Enter the value of p: \")\n",
    "    if factor(p) > 1:\n",
    "         print(\"Series bn is Convergent using p-series.\")\n",
    "         print(\"Hence series an is also convergent.\")\n",
    "    elif factor(p) <= 1:\n",
    "         print(\"Series bn is divergent using p-series.\")\n",
    "         print(\"Hence series an is also divergent.\")\n",
    "else:\n",
    "    print(\"Series a and b neither converge nor diverge together.\")"
   ]
  },
  {
   "cell_type": "code",
   "execution_count": 17,
   "id": "e599f212",
   "metadata": {},
   "outputs": [
    {
     "name": "stdout",
     "output_type": "stream",
     "text": [
      "Enter the nth term of the series a: (1/sqrt(n))*tan(1/n)\n",
      "Enter the nth term of the series b: 1/n**(3/2)\n",
      "Both series a and b converge and diverge together.\n",
      "Limit value is :  1\n",
      "Use p-series to find convergence/divergence of bn\n",
      "Enter the value of p: 3/2\n",
      "Series bn is Convergent using p-series.\n",
      "Hence series an is also convergent.\n"
     ]
    }
   ],
   "source": [
    "from sympy import *\n",
    "n, i = symbols('n i')\n",
    "an = factor(input(\"Enter the nth term of the series a: \"));\n",
    "bn = factor(input(\"Enter the nth term of the series b: \"));\n",
    "S = an/bn\n",
    "L = limit(S, n, oo);\n",
    "if L != 0:\n",
    "    print(\"Both series a and b converge and diverge together.\")\n",
    "    print(\"Limit value is : \", L)\n",
    "    print(\"Use p-series to find convergence/divergence of bn\")\n",
    "    p = input(\"Enter the value of p: \")\n",
    "    if factor(p) > 1:\n",
    "         print(\"Series bn is Convergent using p-series.\")\n",
    "         print(\"Hence series an is also convergent.\")\n",
    "    elif factor(p) <= 1:\n",
    "         print(\"Series bn is divergent using p-series.\")\n",
    "         print(\"Hence series an is also divergent.\")\n",
    "else:\n",
    "    print(\"Series a and b neither converge nor diverge together.\")"
   ]
  },
  {
   "cell_type": "code",
   "execution_count": 8,
   "id": "a9f3c33f",
   "metadata": {},
   "outputs": [
    {
     "name": "stdout",
     "output_type": "stream",
     "text": [
      "Enter the nth term of the series a: atan(1/n)\n",
      "Enter the nth term of the series b: 1/n\n",
      "Both series a and b converge and diverge together.\n",
      "Limit value is :  1\n",
      "Use p-series to find convergence/divergence of bn\n",
      "Enter the value of p: 1\n",
      "Series bn is divergent using p-series.\n",
      "Hence series an is also divergent.\n"
     ]
    }
   ],
   "source": [
    "from sympy import *\n",
    "n, i = symbols('n i')\n",
    "an = factor(input(\"Enter the nth term of the series a: \"));\n",
    "bn = factor(input(\"Enter the nth term of the series b: \"));\n",
    "S = an/bn\n",
    "L = limit(S, n, oo);\n",
    "if L != 0:\n",
    "    print(\"Both series a and b converge and diverge together.\")\n",
    "    print(\"Limit value is : \", L)\n",
    "    print(\"Use p-series to find convergence/divergence of bn\")\n",
    "    p = input(\"Enter the value of p: \")\n",
    "    if factor(p) > 1:\n",
    "         print(\"Series bn is Convergent using p-series.\")\n",
    "         print(\"Hence series an is also convergent.\")\n",
    "    elif factor(p) <= 1:\n",
    "         print(\"Series bn is divergent using p-series.\")\n",
    "         print(\"Hence series an is also divergent.\")\n",
    "else:\n",
    "    print(\"Series a and b neither converge nor diverge together.\")"
   ]
  },
  {
   "cell_type": "code",
   "execution_count": 9,
   "id": "5d892343",
   "metadata": {},
   "outputs": [
    {
     "name": "stdout",
     "output_type": "stream",
     "text": [
      "Enter the nth term of the series a: sqrt(n/(2+3*n**3))\n",
      "Enter the nth term of the series b: 1/n\n",
      "Both series a and b converge and diverge together.\n",
      "Limit value is :  sqrt(3)/3\n",
      "Use p-series to find convergence/divergence of bn\n",
      "Enter the value of p: 1\n",
      "Series bn is divergent using p-series.\n",
      "Hence series an is also divergent.\n"
     ]
    }
   ],
   "source": [
    "from sympy import *\n",
    "n, i = symbols('n i')\n",
    "an = factor(input(\"Enter the nth term of the series a: \"));\n",
    "bn = factor(input(\"Enter the nth term of the series b: \"));\n",
    "S = an/bn\n",
    "L = limit(S, n, oo);\n",
    "if L != 0:\n",
    "    print(\"Both series a and b converge and diverge together.\")\n",
    "    print(\"Limit value is : \", L)\n",
    "    print(\"Use p-series to find convergence/divergence of bn\")\n",
    "    p = input(\"Enter the value of p: \")\n",
    "    if factor(p) > 1:\n",
    "         print(\"Series bn is Convergent using p-series.\")\n",
    "         print(\"Hence series an is also convergent.\")\n",
    "    elif factor(p) <= 1:\n",
    "         print(\"Series bn is divergent using p-series.\")\n",
    "         print(\"Hence series an is also divergent.\")\n",
    "else:\n",
    "    print(\"Series a and b neither converge nor diverge together.\")"
   ]
  },
  {
   "cell_type": "code",
   "execution_count": 13,
   "id": "5228b0a1",
   "metadata": {},
   "outputs": [
    {
     "name": "stdout",
     "output_type": "stream",
     "text": [
      "Enter the nth term of the series a: (n+(1/2))**(-2)\n",
      "Enter the nth term of the series b: 1/n**2\n",
      "Both series a and b converge and diverge together.\n",
      "Limit value is :  1\n",
      "Use p-series to find convergence/divergence of bn\n",
      "Enter the value of p: 2\n",
      "Series bn is Convergent using p-series.\n",
      "Hence series an is also convergent.\n"
     ]
    }
   ],
   "source": [
    "from sympy import *\n",
    "n, i = symbols('n i')\n",
    "an = factor(input(\"Enter the nth term of the series a: \"));\n",
    "bn = factor(input(\"Enter the nth term of the series b: \"));\n",
    "S = an/bn\n",
    "L = limit(S, n, oo);\n",
    "if L != 0:\n",
    "    print(\"Both series a and b converge and diverge together.\")\n",
    "    print(\"Limit value is : \", L)\n",
    "    print(\"Use p-series to find convergence/divergence of bn\")\n",
    "    p = input(\"Enter the value of p: \")\n",
    "    if factor(p) > 1:\n",
    "         print(\"Series bn is Convergent using p-series.\")\n",
    "         print(\"Hence series an is also convergent.\")\n",
    "    elif factor(p) <= 1:\n",
    "         print(\"Series bn is divergent using p-series.\")\n",
    "         print(\"Hence series an is also divergent.\")\n",
    "else:\n",
    "    print(\"Series a and b neither converge nor diverge together.\")"
   ]
  },
  {
   "cell_type": "code",
   "execution_count": 14,
   "id": "c3083e5d",
   "metadata": {},
   "outputs": [
    {
     "name": "stdout",
     "output_type": "stream",
     "text": [
      "Enter the nth term of the series a: 1/(3*n-1)\n",
      "Enter the nth term of the series b: 1/n\n",
      "Both series a and b converge and diverge together.\n",
      "Limit value is :  1/3\n",
      "Use p-series to find convergence/divergence of bn\n",
      "Enter the value of p: 1\n",
      "Series bn is divergent using p-series.\n",
      "Hence series an is also divergent.\n"
     ]
    }
   ],
   "source": [
    "from sympy import *\n",
    "n, i = symbols('n i')\n",
    "an = factor(input(\"Enter the nth term of the series a: \"));\n",
    "bn = factor(input(\"Enter the nth term of the series b: \"));\n",
    "S = an/bn\n",
    "L = limit(S, n, oo);\n",
    "if L != 0:\n",
    "    print(\"Both series a and b converge and diverge together.\")\n",
    "    print(\"Limit value is : \", L)\n",
    "    print(\"Use p-series to find convergence/divergence of bn\")\n",
    "    p = input(\"Enter the value of p: \")\n",
    "    if factor(p) > 1:\n",
    "         print(\"Series bn is Convergent using p-series.\")\n",
    "         print(\"Hence series an is also convergent.\")\n",
    "    elif factor(p) <= 1:\n",
    "         print(\"Series bn is divergent using p-series.\")\n",
    "         print(\"Hence series an is also divergent.\")\n",
    "else:\n",
    "    print(\"Series a and b neither converge nor diverge together.\")"
   ]
  },
  {
   "cell_type": "code",
   "execution_count": 16,
   "id": "b454c679",
   "metadata": {},
   "outputs": [
    {
     "name": "stdout",
     "output_type": "stream",
     "text": [
      "Enter the nth term of the series a: sqrt(n**2 - 1)/(n**3 + 1)\n",
      "Enter the nth term of the series b: 1/n**2\n",
      "Both series a and b converge and diverge together.\n",
      "Limit value is :  1\n",
      "Use p-series to find convergence/divergence of bn\n",
      "Enter the value of p: 2\n",
      "Series bn is Convergent using p-series.\n",
      "Hence series an is also convergent.\n"
     ]
    }
   ],
   "source": [
    "from sympy import *\n",
    "n, i = symbols('n i')\n",
    "an = factor(input(\"Enter the nth term of the series a: \"));\n",
    "bn = factor(input(\"Enter the nth term of the series b: \"));\n",
    "S = an/bn\n",
    "L = limit(S, n, oo);\n",
    "if L != 0:\n",
    "    print(\"Both series a and b converge and diverge together.\")\n",
    "    print(\"Limit value is : \", L)\n",
    "    print(\"Use p-series to find convergence/divergence of bn\")\n",
    "    p = input(\"Enter the value of p: \")\n",
    "    if factor(p) > 1:\n",
    "         print(\"Series bn is Convergent using p-series.\")\n",
    "         print(\"Hence series an is also convergent.\")\n",
    "    elif factor(p) <= 1:\n",
    "         print(\"Series bn is divergent using p-series.\")\n",
    "         print(\"Hence series an is also divergent.\")\n",
    "else:\n",
    "    print(\"Series a and b neither converge nor diverge together.\")"
   ]
  }
 ],
 "metadata": {
  "kernelspec": {
   "display_name": "Python 3",
   "language": "python",
   "name": "python3"
  },
  "language_info": {
   "codemirror_mode": {
    "name": "ipython",
    "version": 3
   },
   "file_extension": ".py",
   "mimetype": "text/x-python",
   "name": "python",
   "nbconvert_exporter": "python",
   "pygments_lexer": "ipython3",
   "version": "3.8.8"
  }
 },
 "nbformat": 4,
 "nbformat_minor": 5
}
