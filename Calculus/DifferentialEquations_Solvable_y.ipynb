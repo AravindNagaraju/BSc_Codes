{
 "cells": [
  {
   "cell_type": "markdown",
   "id": "657b76d0",
   "metadata": {},
   "source": [
    "1. Solve $y-\\dfrac{1}{2}\\left(p x + \\dfrac{x}{2 p}\\right) = 0$"
   ]
  },
  {
   "cell_type": "code",
   "execution_count": 1,
   "id": "d78f6b53",
   "metadata": {},
   "outputs": [
    {
     "name": "stdout",
     "output_type": "stream",
     "text": [
      "p = [Eq(p(x), -0.707106781186548), Eq(p(x), 0.707106781186548), Eq(p(x), C1*x)]\n",
      "The required solutions is : -0.5*C1*x**2 + y(x) - 0.25/C1 = 0\n"
     ]
    },
    {
     "data": {
      "image/png": "[encoded data removed]",
      "text/plain": [
       "<Figure size 432x288 with 1 Axes>"
      ]
     },
     "metadata": {
      "needs_background": "light"
     },
     "output_type": "display_data"
    },
    {
     "data": {
      "text/plain": [
       "<sympy.plotting.plot.Plot at 0x8b41cdf640>"
      ]
     },
     "execution_count": 1,
     "metadata": {},
     "output_type": "execute_result"
    }
   ],
   "source": [
    "from sympy import *\n",
    "x, C1, Y = symbols('x C1 Y')\n",
    "y = Function('y')\n",
    "p = Function('p')\n",
    "eq1 = y(x)-1/2*(p(x)*x+x/(2*p(x)))\n",
    "y1 = solve(eq1, y(x))\n",
    "eq2 = factor(diff(y1[0], x) - p(x))\n",
    "sol1 = dsolve(eq2, p(x), hint = 'default')\n",
    "print(f'p = {sol1}')\n",
    "n = len(sol1)\n",
    "sol2 = eq1.subs(p(x), sol1[n-1].rhs)\n",
    "print(f\"The required solutions is : {sol2} = 0\")\n",
    "\n",
    "#To plot\n",
    "sol3 = sol2.subs([(C1, 1), (y(x), Y)])\n",
    "plot_implicit(Eq(sol3, 0))"
   ]
  },
  {
   "cell_type": "markdown",
   "id": "41e75a6e",
   "metadata": {},
   "source": [
    "2. Solve $y + p x - p^2 x^4 = 0$"
   ]
  },
  {
   "cell_type": "code",
   "execution_count": 2,
   "id": "1507a320",
   "metadata": {},
   "outputs": [
    {
     "name": "stdout",
     "output_type": "stream",
     "text": [
      "p = [Eq(p(x), 1/(2*x**3)), Eq(p(x), C1/x**2)]\n",
      "The required solutions for the given differential equation is : -C1**2 + C1/x + y(x) = 0\n"
     ]
    },
    {
     "data": {
      "image/png": "[encoded data removed]",
      "text/plain": [
       "<Figure size 432x288 with 1 Axes>"
      ]
     },
     "metadata": {
      "needs_background": "light"
     },
     "output_type": "display_data"
    },
    {
     "data": {
      "text/plain": [
       "<sympy.plotting.plot.Plot at 0xd401721250>"
      ]
     },
     "execution_count": 2,
     "metadata": {},
     "output_type": "execute_result"
    }
   ],
   "source": [
    "from sympy import *\n",
    "x, C1, Y = symbols('x C1 Y')\n",
    "y = Function('y')\n",
    "p = Function('p')\n",
    "eq1 = y(x) + p(x)*x - p(x)**2*x**4\n",
    "y1 = solve(eq1, y(x))\n",
    "eq2 = factor(diff(y1[0], x) - p(x))\n",
    "sol1 = dsolve(eq2, p(x), hint = 'default')\n",
    "print(f'p = {sol1}')\n",
    "n = len(sol1)\n",
    "sol2 = eq1.subs(p(x), sol1[n-1].rhs)\n",
    "print(f\"The required solutions for the given differential equation is : {sol2} = 0\")\n",
    "\n",
    "#To plot\n",
    "sol3 = sol2.subs([(C1, 1), (y(x), Y)])\n",
    "plot_implicit(Eq(sol3, 0))"
   ]
  },
  {
   "cell_type": "markdown",
   "id": "b6e2e024",
   "metadata": {},
   "source": [
    "3. Solve $y = 3x + log(p)$"
   ]
  },
  {
   "cell_type": "code",
   "execution_count": 3,
   "id": "abc75531",
   "metadata": {},
   "outputs": [
    {
     "name": "stdout",
     "output_type": "stream",
     "text": [
      "p = Eq(p(x), 3*C1/(C1 - exp(3*x)))\n",
      "The required solutions for the given differential equation is : -3*x + y(x) - log(3*C1/(C1 - exp(3*x))) = 0\n"
     ]
    },
    {
     "data": {
      "image/png": "[encoded data removed]",
      "text/plain": [
       "<Figure size 432x288 with 1 Axes>"
      ]
     },
     "metadata": {
      "needs_background": "light"
     },
     "output_type": "display_data"
    },
    {
     "data": {
      "text/plain": [
       "<sympy.plotting.plot.Plot at 0xd4019f49d0>"
      ]
     },
     "execution_count": 3,
     "metadata": {},
     "output_type": "execute_result"
    }
   ],
   "source": [
    "from sympy import *\n",
    "x, C1, Y = symbols('x C1 Y')\n",
    "y = Function('y')\n",
    "p = Function('p')\n",
    "eq1 = y(x) - 3*x - log(p(x))\n",
    "y1 = solve(eq1, y(x))\n",
    "eq2 = factor(diff(y1[0], x) - p(x))\n",
    "sol1 = dsolve(eq2, p(x), hint = 'default')\n",
    "print(f'p = {sol1}')\n",
    "sol2 = eq1.subs(p(x), sol1.rhs)\n",
    "print(f\"The required solutions for the given differential equation is : {sol2} = 0\")\n",
    "\n",
    "#To plot\n",
    "sol3 = sol2.subs([(C1, 1), (y(x), Y)])\n",
    "plot_implicit(Eq(sol3, 0))"
   ]
  }
 ],
 "metadata": {
  "kernelspec": {
   "display_name": "Python 3",
   "language": "python",
   "name": "python3"
  },
  "language_info": {
   "codemirror_mode": {
    "name": "ipython",
    "version": 3
   },
   "file_extension": ".py",
   "mimetype": "text/x-python",
   "name": "python",
   "nbconvert_exporter": "python",
   "pygments_lexer": "ipython3",
   "version": "3.8.8"
  }
 },
 "nbformat": 4,
 "nbformat_minor": 5
}
