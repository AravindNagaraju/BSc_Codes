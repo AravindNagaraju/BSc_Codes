{
 "cells": [
  {
   "cell_type": "markdown",
   "id": "10933d5f",
   "metadata": {},
   "source": [
    "## Continuity\n",
    "\n",
    "### To discuss the continuity of a function at any given point\n",
    "\n",
    "#### Algorithm:\n",
    "1. Import the libraries.\n",
    "2. Define variables/symbols, function and the limiting point.\n",
    "3. Find LHL, RHL and value of the function at the limiting point.\n",
    "4. If all the values are equal, then the function is continuous at the point.\n",
    "5. Else the function is discontinuous."
   ]
  },
  {
   "cell_type": "code",
   "execution_count": 7,
   "id": "4c21a92d",
   "metadata": {},
   "outputs": [
    {
     "name": "stdout",
     "output_type": "stream",
     "text": [
      "Enter the function f(x) x*sin(1/x)\n",
      "Enter the limit point.0\n",
      "Given function is x*sin(1/x)\n",
      "Limit point is 0\n",
      "LHL = 0\n",
      "RHL = 0\n",
      "f(a) = 0\n",
      "The given function is continuous at x = 0\n"
     ]
    }
   ],
   "source": [
    "#1\n",
    "from sympy import *\n",
    "#2\n",
    "x = Symbol('x')\n",
    "f = simplify(input(\"Enter the function f(x) \"))\n",
    "a = factor(input(\"Enter the limit point.\"))\n",
    "print(f'Given function is {f}')\n",
    "print(f'Limit point is {a}')\n",
    "#3\n",
    "LHL = limit(f, x, a, dir = \"-\")\n",
    "RHL = limit(f, x, a, dir = \"+\")\n",
    "fa = 0                                #use sinc(oo) for x*sin(1/x)\n",
    "print(f'LHL = {LHL}')\n",
    "print(f'RHL = {RHL}')\n",
    "print(f'f(a) = {fa}')\n",
    "#4\n",
    "if LHL == RHL and LHL == fa:\n",
    "    print(f'The given function is continuous at x = {a}')\n",
    "else:\n",
    "    print(f'The given function is not continuous at x = {a}')"
   ]
  },
  {
   "cell_type": "markdown",
   "id": "dd636cce",
   "metadata": {},
   "source": [
    "### To discuss the continuity of functions\n",
    "#### Algorithm:\n",
    "1. Import the libraries.\n",
    "2. Define variables/symbols, functions and the intervals.\n",
    "3. Find LHL, RHL and value of the function in the interval.\n",
    "4. If all the values are equal, then the function is continuous at the point.\n",
    "5. Else the function is discontinuous."
   ]
  },
  {
   "cell_type": "code",
   "execution_count": 2,
   "id": "592de303",
   "metadata": {},
   "outputs": [
    {
     "name": "stdout",
     "output_type": "stream",
     "text": [
      "Enter the first function at x < a: x**2\n",
      "Enter the second function at x = a: x**2\n",
      "Enter the third function at x > a: 6*x-9\n",
      "Enter the limit point: 3\n",
      "The left hand limit is : 9\n",
      "The right hand limit is : 9\n",
      "The limit at limit point is : 9\n",
      "The given function is continuous at x = 3\n"
     ]
    }
   ],
   "source": [
    "from sympy import *\n",
    "x = symbols('x')\n",
    "f1 = simplify(input(\"Enter the function while x < a: \"));\n",
    "f2 = simplify(input(\"Enter the function at x = a: \"));\n",
    "f3 = simplify(input(\"Enter the function while x > a: \"));\n",
    "a = simplify(input(\"Enter the limit point: \"));\n",
    "    \n",
    "LHL = limit(f1, x, a, dir = \"-\")\n",
    "RHL = limit(f3, x, a, dir = \"+\")\n",
    "fa = f2.subs(x, a)\n",
    "print(f'The left hand limit is: {LHL}')\n",
    "print(f'The right hand limit is: {RHL}')\n",
    "print(f'The limit at limit point is: {fa}')\n",
    "\n",
    "\n",
    "if LHL == RHL and LHL == fa:\n",
    "    print(f'The given function is continuous at x = {a}')\n",
    "else:\n",
    "    print(f'The given function is not continuous at x = {a}')"
   ]
  },
  {
   "cell_type": "markdown",
   "id": "52fee25e",
   "metadata": {},
   "source": [
    "## Additional"
   ]
  },
  {
   "cell_type": "code",
   "execution_count": 1,
   "id": "7b4c496c",
   "metadata": {},
   "outputs": [
    {
     "data": {
      "text/latex": [
       "$\\displaystyle \\left(-\\infty, -2\\right) \\cup \\left(-2, 2\\right) \\cup \\left(2, \\infty\\right)$"
      ],
      "text/plain": [
       "Union(Interval.open(-oo, -2), Interval.open(-2, 2), Interval.open(2, oo))"
      ]
     },
     "execution_count": 1,
     "metadata": {},
     "output_type": "execute_result"
    }
   ],
   "source": [
    "from sympy import *\n",
    "#from sympy import Symbol, S\n",
    "from sympy.calculus.util import continuous_domain\n",
    "x = Symbol(\"x\")\n",
    "f = 1/(x**2-4)\n",
    "continuous_domain(f, x, S.Reals)"
   ]
  },
  {
   "cell_type": "markdown",
   "id": "3fa1c099",
   "metadata": {},
   "source": [
    "## Differentiability\n",
    "\n",
    "Def: Let $f(x)$ be a function in a domain $D \\subset R$ and $x_0$ be any point in $D$. Then, $$lim_{x \\to x_0} \\dfrac{f(x) - f(x_0)}{x - x_0}$$, if it exists, is called derivative of $f(x)$ at $x = x_0$\n",
    "\n",
    "#### Algorithm\n",
    "1. Import the libraries.\n",
    "2. Define variables/symbols, functions and the intervals.\n",
    "3. Find LHD, RHD of the function in the interval.\n",
    "4. If all the values are equal, then the function is continuous at the point.\n",
    "5. Else the function is discontinuous."
   ]
  },
  {
   "cell_type": "code",
   "execution_count": 11,
   "id": "621eb3a7",
   "metadata": {},
   "outputs": [
    {
     "name": "stdout",
     "output_type": "stream",
     "text": [
      "The given function is differentiable at x = 3.\n",
      "LHD = 6\n",
      "RHD = 6\n"
     ]
    }
   ],
   "source": [
    "from sympy import *\n",
    "import numpy as np\n",
    "#import matplotlib.pyplot as plt\n",
    "x = symbols('x')\n",
    "a = 3\n",
    "\n",
    "def f1(x):\n",
    "    return x**2;\n",
    "\n",
    "def f2(x):\n",
    "    return 6*x-9;\n",
    "\n",
    "flag = 0;\n",
    "\n",
    "# Checking for differentiability\n",
    "\n",
    "LHD = limit((f1(x) - f1(a))/(x - a), x, a, '-');\n",
    "RHD = limit((f2(x) - f2(a))/(x - a), x, a, '+');\n",
    "if LHD == RHD and abs(LHD) != oo and abs(RHD) != oo:\n",
    "    flag = 1\n",
    "else:\n",
    "    flag = 0\n",
    "\n",
    "if flag == 1:\n",
    "    print(f'The given function is differentiable at x = {a}.')\n",
    "else:\n",
    "    print(f'The given function is not differentiable at x = {a}.')\n",
    "print(f'LHD = {LHD}')\n",
    "print(f'RHD = {RHD}')"
   ]
  },
  {
   "cell_type": "markdown",
   "id": "92036b78",
   "metadata": {},
   "source": [
    "## Rolle's Theorem"
   ]
  },
  {
   "cell_type": "code",
   "execution_count": 1,
   "id": "929ccd54",
   "metadata": {},
   "outputs": [
    {
     "name": "stdout",
     "output_type": "stream",
     "text": [
      "Enter the lower limit: 1\n",
      "Enter the upper limit: 2\n",
      "Enter the function: (x-1)*(x-2)**2\n",
      "Given f(x) = (x - 2)**2*(x - 1)\n",
      "The given function is continuous in the interval.\n",
      "The given function is differentiable in the interval [1, 2].\n",
      "f(a) = f(b)\n",
      "f(x) satisfies all the conditions of Rolle's theorem.\n",
      "Hence by Rolle's theorem there exists atleast one point c such that a < c < b, for which f'(c)=0.\n"
     ]
    },
    {
     "data": {
      "image/png": "[encoded data removed]",
      "text/plain": [
       "<Figure size 432x288 with 1 Axes>"
      ]
     },
     "metadata": {
      "needs_background": "light"
     },
     "output_type": "display_data"
    }
   ],
   "source": [
    "from sympy import *\n",
    "import numpy as np\n",
    "import matplotlib.pyplot as plt\n",
    "x = symbols('x')\n",
    "a = int(input(\"Enter the lower limit: \"));\n",
    "b = int(input(\"Enter the upper limit: \"));\n",
    "f = simplify(input(\"Enter the function: \"));\n",
    "print(f\"Given f(x) = {f}\");\n",
    "flag = 0;\n",
    "\n",
    "# Checking for continuity\n",
    "for i in np.arange(a, b+0.05, 0.005):\n",
    "    LHL = limit(f, x, i, dir = '-');\n",
    "    RHL = limit(f, x, i, dir = '+');\n",
    "    fa = f.subs(x, i);\n",
    "    \n",
    "    if LHL == RHL and LHL == fa:\n",
    "        flag = 1;\n",
    "    else:\n",
    "        flag = 0;\n",
    "\n",
    "if flag == 1:\n",
    "    print('The given function is continuous in the interval.')\n",
    "else:\n",
    "    print(\"One of the conditions of continuity fails, hence the given function is not continuous in the given interval.\")\n",
    "    \n",
    "# Checking for differentiability\n",
    "\n",
    "for i in np.arange(a+0.00001 ,b-0.00001, 0.05):\n",
    "    fi = f.subs(x, i);\n",
    "    LHL = limit((f - fi)/(x - i), x, i, '-');\n",
    "    RHL = limit((f - fi)/(x - i), x, i, '+');\n",
    "    if LHL == RHL and abs(LHL) != oo and abs(RHL) != oo:\n",
    "        flag:1\n",
    "    else:\n",
    "        flag:0\n",
    "\n",
    "if flag == 1:\n",
    "    print(f'The given function is differentiable in the interval [{a}, {b}].')\n",
    "else:\n",
    "    print(f'The given function is not differentiable in the interval')\n",
    "    \n",
    "fa = f.subs(x, a);\n",
    "fb = f.subs(x, b);\n",
    "\n",
    "if fa == fb:\n",
    "    print(\"f(a) = f(b)\");\n",
    "    flag = 1\n",
    "else:\n",
    "    print(\"f(a) not equal to f(b)\");\n",
    "    flag = 0;\n",
    "    \n",
    "if flag == 1:\n",
    "    print(\"f(x) satisfies all the conditions of Rolle's theorem.\");\n",
    "    print(\"Hence by Rolle's theorem there exists atleast one point c such that a < c < b, for which f'(c)=0.\");\n",
    "else:\n",
    "    print(\"One of the condition of Rolle's theorem fails.\");\n",
    "\n",
    "# Plotting the given function\n",
    "x = np.arange(a, b+0.05, 0.005)\n",
    "fx = (x-1)*(x-2)**2\n",
    "plt.plot(x, fx)\n",
    "plt.xlim(a, b)\n",
    "plt.grid()"
   ]
  },
  {
   "cell_type": "markdown",
   "id": "8fa4cb9c",
   "metadata": {},
   "source": [
    "## Lagrange's Theorem"
   ]
  },
  {
   "cell_type": "code",
   "execution_count": 2,
   "id": "7a817a5e",
   "metadata": {},
   "outputs": [
    {
     "name": "stdout",
     "output_type": "stream",
     "text": [
      "Enter the lower limit: 0\n",
      "Enter the upper limit: 4\n",
      "Enter the function: (x-1)*(x-2)*(x-3)\n",
      "Given f(x) = (x - 3)*(x - 2)*(x - 1)\n",
      "f'(x)= (x - 3)*(x - 2) + (x - 3)*(x - 1) + (x - 2)*(x - 1)\n",
      "The given function is continuous in the interval.\n",
      "The given function is differentiable in the interval [0, 4].\n",
      "f(x) satisfies all the conditions of Lagrange's theorem.\n",
      "Hence by Lagrange's theorem there exists one value of c on the open interval\n",
      "The required value of c is [2 - 2*sqrt(3)/3, 2*sqrt(3)/3 + 2]\n"
     ]
    }
   ],
   "source": [
    "from sympy import *\n",
    "import numpy as np\n",
    "import matplotlib.pyplot as plt\n",
    "x, c = symbols('x c')\n",
    "a = factor(input(\"Enter the lower limit: \"));\n",
    "b = factor(input(\"Enter the upper limit: \"));\n",
    "f = simplify(input(\"Enter the function: \"));\n",
    "print(f\"Given f(x) = {f}\");\n",
    "df = diff(f, x);\n",
    "print(f\"f'(x)= {df}\");\n",
    "flag = 0;\n",
    "\n",
    "# Checking for continuity\n",
    "for i in np.arange(a, b+0.05, 0.05):\n",
    "    LHL = limit(f, x, i, dir = '-');\n",
    "    RHL = limit(f, x, i, dir = '+');\n",
    "    fa = f.subs(x, i);\n",
    "    \n",
    "    if LHL == RHL and LHL == fa:\n",
    "        flag = 1;\n",
    "\n",
    "if flag == 1:\n",
    "    print('The given function is continuous in the interval.')\n",
    "else:\n",
    "    print(\"One of the conditions of continuity fails, hence the given function is not continuous in the given interval.\")\n",
    "\n",
    "# Checking for differentiability\n",
    "\n",
    "for i in np.arange(a+0.00001 ,b-0.00001, 0.05):\n",
    "    fi = f.subs(x, i);\n",
    "    LHL = limit((f - fi)/(x - i), x, i, '-');\n",
    "    RHL = limit((f - fi)/(x - i), x, i, '+');\n",
    "    if LHL == RHL and abs(LHL) != oo and abs(RHL) != oo:\n",
    "        flag:1\n",
    "    else:\n",
    "        flag:0\n",
    "\n",
    "if flag == 1:\n",
    "    print(f'The given function is differentiable in the interval [{a}, {b}].')\n",
    "else:\n",
    "    print(f'The given function is differentiable in the interval')\n",
    "\n",
    "# Verifying Lagrange's theorem\n",
    "fa = f.subs(x, a)\n",
    "fb = f.subs(x, b)\n",
    "dfc = df.subs(x, c)\n",
    "if flag == 1:\n",
    "    ratio = (fb - fa)/(b-a)\n",
    "    sol = solve(dfc-ratio, c)\n",
    "    print(\"f(x) satisfies all the conditions of Lagrange's theorem.\")\n",
    "    print(\"Hence by Lagrange's theorem there exists one value of c on the open interval\")\n",
    "    print(f\"The required value of c is {sol}\")\n",
    "else:\n",
    "    print(\"One of the condition of Lagrange's theorem fails.\")"
   ]
  },
  {
   "cell_type": "code",
   "execution_count": null,
   "id": "7079f6bc",
   "metadata": {},
   "outputs": [],
   "source": []
  }
 ],
 "metadata": {
  "kernelspec": {
   "display_name": "Python 3",
   "language": "python",
   "name": "python3"
  },
  "language_info": {
   "codemirror_mode": {
    "name": "ipython",
    "version": 3
   },
   "file_extension": ".py",
   "mimetype": "text/x-python",
   "name": "python",
   "nbconvert_exporter": "python",
   "pygments_lexer": "ipython3",
   "version": "3.8.8"
  }
 },
 "nbformat": 4,
 "nbformat_minor": 5
}
