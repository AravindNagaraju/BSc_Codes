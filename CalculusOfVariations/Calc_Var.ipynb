{
 "cells": [
  {
   "cell_type": "markdown",
   "id": "5392cbf3",
   "metadata": {},
   "source": [
    "## Calculus of Variation"
   ]
  },
  {
   "cell_type": "code",
   "execution_count": 1,
   "id": "f374f7d5",
   "metadata": {},
   "outputs": [
    {
     "name": "stdout",
     "output_type": "stream",
     "text": [
      "Collecting calculus-of-variations\n",
      "  Downloading calculus_of_variations-0.3.0-py3-none-any.whl (14 kB)\n",
      "Collecting sympy==1.6.2\n",
      "  Downloading sympy-1.6.2-py3-none-any.whl (5.8 MB)\n",
      "Requirement already satisfied: mpmath>=0.19 in c:\\users\\aravi\\anaconda3\\lib\\site-packages (from sympy==1.6.2->calculus-of-variations) (1.2.1)\n",
      "Installing collected packages: sympy, calculus-of-variations\n",
      "  Attempting uninstall: sympy\n",
      "    Found existing installation: sympy 1.8\n",
      "    Uninstalling sympy-1.8:\n",
      "      Successfully uninstalled sympy-1.8\n",
      "Successfully installed calculus-of-variations-0.3.0 sympy-1.6.2\n",
      "Note: you may need to restart the kernel to use updated packages.\n"
     ]
    }
   ],
   "source": [
    "# Install the library - calculus of variation\n",
    "# https://pypi.org/project/calculus-of-variations/\n",
    "\n",
    "pip install calculus-of-variations"
   ]
  },
  {
   "cell_type": "markdown",
   "id": "fa6cf5a6",
   "metadata": {},
   "source": [
    "## Problems on Euler Equation\n"
   ]
  },
  {
   "cell_type": "markdown",
   "id": "16de2fae",
   "metadata": {},
   "source": [
    "1. Solve the variational problem $\\left(\\frac{dx}{dt}\\right)^2 + 2t x; x(0) = 0; x(1) = 0$"
   ]
  },
  {
   "cell_type": "code",
   "execution_count": 2,
   "id": "a126c1cd",
   "metadata": {},
   "outputs": [
    {
     "name": "stdout",
     "output_type": "stream",
     "text": [
      "integral from 0 to 1 of (x_diff ** 2 + t * x)dt -> extr\n",
      "x(0) = 0\n",
      "x(1) = 0\n",
      "\n"
     ]
    }
   ],
   "source": [
    "import calculus_of_variations\n",
    "\n",
    "solver = calculus_of_variations.SimplestSolver(\n",
    "    L=\"x_diff ** 2 + t * x\",\n",
    "    t0=\"0\", t1=\"1\",\n",
    "    x0=\"0\", x1=\"0\",\n",
    ")\n",
    "solver.solve()"
   ]
  },
  {
   "cell_type": "markdown",
   "id": "879b03a8",
   "metadata": {},
   "source": [
    "2. Solve the variational problem $\\left(\\frac{dx}{dt}\\right)^2; x(0) = 0; x(1) = 0$"
   ]
  },
  {
   "cell_type": "code",
   "execution_count": 7,
   "id": "a62e5e47",
   "metadata": {},
   "outputs": [
    {
     "name": "stdout",
     "output_type": "stream",
     "text": [
      "integral from 0 to 1 of ((12*x*t) + (x_diff)**2)dt -> extr\n",
      "x(0) = 3\n",
      "x(1) = 6\n",
      "\n",
      "general_solution: C1 + C2*t + t**3\n",
      "coefficients: {C1: 3, C2: 2}\n",
      "particular_solution: t**3 + 2*t + 3\n",
      "extrema_value: 191/5\n",
      "\n"
     ]
    }
   ],
   "source": [
    "variational = calculus_of_variations.SimplestSolver(\n",
    "    L=\"(12*x*t) + (x_diff)**2\",\n",
    "    t0=\"0\", t1=\"1\",\n",
    "    x0=\"3\", x1=\"6\",\n",
    ")\n",
    "\n",
    "variational.solve()"
   ]
  },
  {
   "cell_type": "code",
   "execution_count": 1,
   "id": "26a3e316",
   "metadata": {},
   "outputs": [
    {
     "name": "stdout",
     "output_type": "stream",
     "text": [
      "integral from 0 to pi/2 of ((x_diff)**2 - x**2)dt -> extr\n",
      "x(0) = 2\n",
      "x(pi/2) = 3\n",
      "\n",
      "general_solution: C1*sin(t) + C2*cos(t)\n",
      "coefficients: {C1: 3, C2: 2}\n",
      "particular_solution: 3*sin(t) + 2*cos(t)\n",
      "extrema_value: -12\n",
      "\n"
     ]
    }
   ],
   "source": [
    "import calculus_of_variations\n",
    "\n",
    "variational = calculus_of_variations.SimplestSolver(\n",
    "    L=\"(x_diff)**2 - x**2\",\n",
    "    t0=\"0\", t1=\"(pi)/2\",\n",
    "    x0=\"2\", x1=\"3\",\n",
    ")\n",
    "\n",
    "variational.solve()"
   ]
  },
  {
   "cell_type": "code",
   "execution_count": 8,
   "id": "7bb549a1",
   "metadata": {},
   "outputs": [
    {
     "name": "stdout",
     "output_type": "stream",
     "text": [
      "integral from 0 to pi of ((x_diff)**2+2*x*sin(t))dt -> extr\n",
      "x(0) = 0\n",
      "x(pi) = 0\n",
      "\n",
      "general_solution: C1 + C2*t - sin(t)\n",
      "coefficients: {C2: 0, C1: 0}\n",
      "particular_solution: -sin(t)\n",
      "extrema_value: -pi/2\n",
      "\n"
     ]
    }
   ],
   "source": [
    "import calculus_of_variations\n",
    "from sympy import *\n",
    "variational = calculus_of_variations.SimplestSolver(\n",
    "    L=\"(x_diff)**2+2*x*sin(t)\",\n",
    "    t0=\"0\", t1=\"pi\",\n",
    "    x0=\"0\", x1=\"0\",\n",
    ")\n",
    "\n",
    "variational.solve()"
   ]
  },
  {
   "cell_type": "code",
   "execution_count": 11,
   "id": "8b1c1b46",
   "metadata": {},
   "outputs": [
    {
     "name": "stdout",
     "output_type": "stream",
     "text": [
      "integral from 1 to 2 of (t**2 * (x_diff)**2 + 2*x*(x+t))dt -> extr\n",
      "x(1) = 0\n",
      "x(2) = 0\n",
      "\n",
      "general_solution: C1/t**2 + C2*t + t*log(t)/3\n",
      "coefficients: {C1: 8*log(2)/21, C2: -8*log(2)/21}\n",
      "particular_solution: t*log(t)/3 - 8*t*log(2)/21 + 8*log(2)/(21*t**2)\n",
      "extrema_value: -16*log(2)/9 - 7/27 + (16/9 - 128*log(2)/63)*log(2) + 152*log(2)**2/63\n",
      "\n"
     ]
    }
   ],
   "source": [
    "import calculus_of_variations\n",
    "from sympy import *\n",
    "variational = calculus_of_variations.SimplestSolver(\n",
    "    L=\"t**2 * (x_diff)**2 + 2*x*(x+t)\",\n",
    "    t0=\"1\", t1=\"2\",\n",
    "    x0=\"0\", x1=\"0\",\n",
    ")\n",
    "\n",
    "variational.solve()"
   ]
  },
  {
   "cell_type": "code",
   "execution_count": 12,
   "id": "72740775",
   "metadata": {},
   "outputs": [
    {
     "name": "stdout",
     "output_type": "stream",
     "text": [
      "integral from 0 to 1 of ((12*x*t) + (x_diff)**2)dt -> extr\n",
      "x(0) = 0\n",
      "x(1) = 1\n",
      "\n",
      "general_solution: C1 + C2*t + t**3\n",
      "coefficients: {C2: 0, C1: 0}\n",
      "particular_solution: t**3\n",
      "extrema_value: 21/5\n",
      "\n"
     ]
    }
   ],
   "source": [
    "variational = calculus_of_variations.SimplestSolver(\n",
    "    L=\"(12*x*t) + (x_diff)**2\",\n",
    "    t0=\"0\", t1=\"1\",\n",
    "    x0=\"0\", x1=\"1\",\n",
    ")\n",
    "\n",
    "variational.solve()"
   ]
  },
  {
   "cell_type": "code",
   "execution_count": 15,
   "id": "0a186edb",
   "metadata": {},
   "outputs": [
    {
     "name": "stdout",
     "output_type": "stream",
     "text": [
      "integral from 0 to 1 of (x**2 - x*x_diff + (x_diff)**2)dt -> extr\n",
      "x(0) = 1\n",
      "x(1) = 2\n",
      "\n",
      "general_solution: C1*exp(-t) + C2*exp(t)\n",
      "coefficients: {C2: (1 - 2*E)/(1 - exp(2)), C1: -(2 - E)/(2*sinh(1))}\n",
      "particular_solution: (1 - 2*E)*exp(t)/(1 - exp(2)) - (2 - E)*exp(-t)/(2*sinh(1))\n",
      "extrema_value: -(-6*exp(6) - 48*exp(3) - 12*exp(4) - 32*E*sinh(1)**2 - 24 + 8*sinh(1)**2 + 24*E + 42*exp(2) + 32*exp(2)*sinh(1)**2 + 24*exp(5))/(-32*exp(2)*sinh(1)**2 + 16*sinh(1)**2 + 16*exp(4)*sinh(1)**2) + ((-6*exp(6) - 48*exp(3) - 12*exp(4) - 24 + 24*E + 42*exp(2) + 24*exp(5))*exp(-2) + (-32*E*sinh(1)**2 + 8*sinh(1)**2 + 32*exp(2)*sinh(1)**2)*exp(2))/(-32*exp(2)*sinh(1)**2 + 16*sinh(1)**2 + 16*exp(4)*sinh(1)**2)\n",
      "\n"
     ]
    }
   ],
   "source": [
    "variational = calculus_of_variations.SimplestSolver(\n",
    "    L=\"x**2 - x*x_diff + (x_diff)**2\",\n",
    "    t0=\"0\", t1=\"1\",\n",
    "    x0=\"1\", x1=\"2\",\n",
    ")\n",
    "\n",
    "variational.solve()"
   ]
  },
  {
   "cell_type": "code",
   "execution_count": 55,
   "id": "95d8f786",
   "metadata": {},
   "outputs": [
    {
     "name": "stdout",
     "output_type": "stream",
     "text": [
      "integral from 0 to 1 of ((x_diff)**2 + x_diff + 1)dt -> extr\n",
      "x(0) = 1\n",
      "x(1) = 2\n",
      "\n",
      "general_solution: C1 + C2*t\n",
      "coefficients: {C1: 1, C2: 1}\n",
      "particular_solution: t + 1\n",
      "extrema_value: 3\n",
      "\n"
     ]
    }
   ],
   "source": [
    "import calculus_of_variations\n",
    "\n",
    "variational = calculus_of_variations.SimplestSolver(\n",
    "    L=\"(x_diff)**2 + x_diff + 1\",\n",
    "    t0=\"0\", t1=\"1\",\n",
    "    x0=\"1\", x1=\"2\",\n",
    ")\n",
    "\n",
    "variational.solve()"
   ]
  },
  {
   "cell_type": "code",
   "execution_count": 59,
   "id": "6bc9f3c5",
   "metadata": {},
   "outputs": [
    {
     "name": "stdout",
     "output_type": "stream",
     "text": [
      "integral from 0 to 1 of ((x_diff)**2)dt -> extr\n",
      "x(0) = 0\n",
      "x(1) = 1\n",
      "\n",
      "general_solution: C1 + C2*t\n",
      "coefficients: {C1: 0, C2: 1}\n",
      "particular_solution: t\n",
      "extrema_value: 1\n",
      "\n"
     ]
    }
   ],
   "source": [
    "variational = calculus_of_variations.SimplestSolver(\n",
    "    L=\"(x_diff)**2\",\n",
    "    t0=\"0\", t1=\"1\",\n",
    "    x0=\"0\", x1=\"1\",\n",
    ")\n",
    "\n",
    "variational.solve()"
   ]
  },
  {
   "cell_type": "code",
   "execution_count": 56,
   "id": "2ea64633",
   "metadata": {},
   "outputs": [
    {
     "name": "stdout",
     "output_type": "stream",
     "text": [
      "integral from 0 to 1 of (x**2 + 1)dt -> extr\n",
      "x(0) = 1\n",
      "x(1) = 2\n",
      "\n",
      "general_solution: 0\n",
      "coefficients: []\n",
      "particular_solution: 0\n",
      "extrema_value: 1\n",
      "\n"
     ]
    }
   ],
   "source": [
    "variational = calculus_of_variations.SimplestSolver(\n",
    "    L=\"x**2 + 1\",\n",
    "    t0=\"0\", t1=\"1\",\n",
    "    x0=\"1\", x1=\"2\",\n",
    ")\n",
    "\n",
    "variational.solve()"
   ]
  },
  {
   "cell_type": "code",
   "execution_count": 63,
   "id": "70ddb8c3",
   "metadata": {},
   "outputs": [
    {
     "name": "stdout",
     "output_type": "stream",
     "text": [
      "integral from 1 to 2 of (t**3 / x_diff**2)dt -> extr\n",
      "x(1) = 0\n",
      "x(2) = 3\n",
      "\n",
      "general_solution: C1 + C2*t**2\n",
      "coefficients: {C1: -1, C2: 1}\n",
      "particular_solution: t**2 - 1\n",
      "extrema_value: 3/8\n",
      "\n"
     ]
    }
   ],
   "source": [
    "variational = calculus_of_variations.SimplestSolver(\n",
    "    L=\"t**3 / x_diff**2\",\n",
    "    t0=\"1\", t1=\"2\",\n",
    "    x0=\"0\", x1=\"3\",\n",
    ")\n",
    "\n",
    "variational.solve()"
   ]
  },
  {
   "cell_type": "code",
   "execution_count": 67,
   "id": "2138f7da",
   "metadata": {},
   "outputs": [
    {
     "name": "stdout",
     "output_type": "stream",
     "text": [
      "integral from 0 to 1 of (t * x_diff - x_diff**2)dt -> extr\n",
      "x(0) = 1\n",
      "x(1) = 0.25\n",
      "\n",
      "general_solution: C1 + C2*t + t**2/4\n",
      "coefficients: {C1: 1, C2: -1}\n",
      "particular_solution: t**2/4 - t + 1\n",
      "extrema_value: -11/12\n",
      "\n"
     ]
    }
   ],
   "source": [
    "variational = calculus_of_variations.SimplestSolver(\n",
    "    L=\"t * x_diff - x_diff**2\",\n",
    "    t0=\"0\", t1=\"1\",\n",
    "    x0=\"1\", x1=\"1/4\",\n",
    ")\n",
    "\n",
    "variational.solve()"
   ]
  },
  {
   "cell_type": "code",
   "execution_count": null,
   "id": "33512d39",
   "metadata": {},
   "outputs": [],
   "source": []
  },
  {
   "cell_type": "code",
   "execution_count": 65,
   "id": "442402b9",
   "metadata": {},
   "outputs": [
    {
     "name": "stdout",
     "output_type": "stream",
     "text": [
      "integral from 0 to 1 of (x_diff ** 2)dt -> extr\n",
      "integral from 0 to 1 of (x(t))dt = 1\n",
      "x(0) = 0\n",
      "x(1) = 1\n",
      "\n",
      "general_solution: C1 + C2*t + lambda_1*t**2/(4*lambda_0)\n",
      "coefficients: {C1: 0, C2: 4, lambda_1/lambda_0: -12}\n",
      "particular_solution: -3*t**2 + 4*t\n",
      "extrema_value: 4\n",
      "\n"
     ]
    }
   ],
   "source": [
    "solver = calculus_of_variations.IsoperimetricSolver(\n",
    "    f0=\"x_diff ** 2\",\n",
    "    t0=\"0\", t1=\"1\",\n",
    "    x0=\"0\", x1=\"1\",\n",
    "    f_list=\"x\",\n",
    "    alpha_list=\"1\",\n",
    ")\n",
    "solver.solve()"
   ]
  },
  {
   "cell_type": "code",
   "execution_count": null,
   "id": "ce2d1683",
   "metadata": {},
   "outputs": [],
   "source": []
  },
  {
   "cell_type": "code",
   "execution_count": 17,
   "id": "ee698015",
   "metadata": {},
   "outputs": [
    {
     "name": "stdout",
     "output_type": "stream",
     "text": [
      "integral from 0 to pi of (x_diff ** 2 - x**2)dt -> extr\n",
      "integral from 0 to pi of (x(t))dt = 1\n",
      "x(0) = 0\n",
      "x(pi) = 1\n",
      "\n",
      "general_solution: C1*exp(-I*t) + C2*exp(I*t) + lambda_1/(2*lambda_0)\n",
      "coefficients: {C1: I*(-pi + 2 + 2*I)/8, C2: I*(-2 + pi + 2*I)/8, lambda_1/lambda_0: 1}\n",
      "particular_solution: I*(-2 + pi + 2*I)*exp(I*t)/8 + 1/2 + I*(-pi + 2 + 2*I)*exp(-I*t)/8\n",
      "extrema_value: -1 + pi/4\n",
      "\n"
     ]
    }
   ],
   "source": [
    "solver = calculus_of_variations.IsoperimetricSolver(\n",
    "    f0=\"x_diff ** 2 - x**2\",\n",
    "    t0=\"0\", t1=\"pi\",\n",
    "    x0=\"0\", x1=\"1\",\n",
    "    f_list=\"x\",\n",
    "    alpha_list=\"1\",\n",
    ")\n",
    "solver.solve()"
   ]
  },
  {
   "cell_type": "code",
   "execution_count": 18,
   "id": "e557787e",
   "metadata": {},
   "outputs": [
    {
     "name": "stdout",
     "output_type": "stream",
     "text": [
      "integral from 0 to 1 of (x_diff ** 2 - t**2)dt -> extr\n",
      "integral from 0 to 1 of (x(t))dt = 2\n",
      "x(0) = 0\n",
      "x(1) = 1\n",
      "\n",
      "general_solution: C1 + C2*t + lambda_1*t**2/(4*lambda_0)\n",
      "coefficients: {C1: 0, C2: 10, lambda_1/lambda_0: -36}\n",
      "particular_solution: -9*t**2 + 10*t\n",
      "extrema_value: 83/3\n",
      "\n"
     ]
    }
   ],
   "source": [
    "solver = calculus_of_variations.IsoperimetricSolver(\n",
    "    f0=\"x_diff ** 2 - t**2\",\n",
    "    t0=\"0\", t1=\"1\",\n",
    "    x0=\"0\", x1=\"1\",\n",
    "    f_list=\"x\",\n",
    "    alpha_list=\"2\",\n",
    ")\n",
    "solver.solve()"
   ]
  },
  {
   "cell_type": "code",
   "execution_count": 23,
   "id": "05a898c6",
   "metadata": {},
   "outputs": [
    {
     "name": "stdout",
     "output_type": "stream",
     "text": [
      "integral from 0 to 1 of (x_diff ** 2 + t**2)dt -> extr\n",
      "integral from 0 to 1 of (x(t))dt = 0.16666666666666666\n",
      "x(0) = 0\n",
      "x(1) = 0\n",
      "\n",
      "general_solution: C1 + C2*t + lambda_1*t**2/(4*lambda_0)\n",
      "coefficients: {C1: 0.0, C2: 1.00000000000000, lambda_1/lambda_0: -4.00000000000000}\n",
      "particular_solution: -1.0*t**2 + 1.0*t\n",
      "extrema_value: 0.666666666666667\n",
      "\n"
     ]
    }
   ],
   "source": [
    "solver = calculus_of_variations.IsoperimetricSolver(\n",
    "    f0=\"x_diff ** 2 + t**2\",\n",
    "    t0=\"0\", t1=\"1\",\n",
    "    x0=\"0\", x1=\"0\",\n",
    "    f_list=\"x\",\n",
    "    alpha_list=\"1/6\",\n",
    ")\n",
    "solver.solve()"
   ]
  },
  {
   "cell_type": "code",
   "execution_count": 26,
   "id": "1eee8683",
   "metadata": {},
   "outputs": [
    {
     "name": "stdout",
     "output_type": "stream",
     "text": [
      "integral from 0 to 4 of (x)dt -> extr\n",
      "integral from 0 to 4 of (Derivative(x(t), t)**2)dt = 4\n",
      "x(0) = 0\n",
      "x(4) = 4\n",
      "\n",
      "general_solution: C1 + C2*t + lambda_0*t**2/(4*lambda_1)\n",
      "coefficients: []\n",
      "particular_solution: C1 + C2*t + lambda_0*t**2/(4*lambda_1)\n",
      "extrema_value: 4*C1 + 8*C2 + 16*lambda_0/(3*lambda_1)\n",
      "\n"
     ]
    }
   ],
   "source": [
    "solver = calculus_of_variations.IsoperimetricSolver(\n",
    "    f0=\"x\",\n",
    "    t0=\"0\", t1=\"4\",\n",
    "    x0=\"0\", x1=\"4\",\n",
    "    f_list=\"x_diff**2\",\n",
    "    alpha_list=\"4\",\n",
    ")\n",
    "solver.solve()"
   ]
  },
  {
   "cell_type": "code",
   "execution_count": 68,
   "id": "d637bb22",
   "metadata": {},
   "outputs": [
    {
     "name": "stdout",
     "output_type": "stream",
     "text": [
      "integral from 0 to 1 of (x_diff ** 2 - t)dt -> extr\n",
      "integral from 0 to 1 of (x(t))dt = 1\n",
      "x(0) = 0\n",
      "x(1) = 1\n",
      "\n",
      "general_solution: C1 + C2*t + lambda_1*t**2/(4*lambda_0)\n",
      "coefficients: {C1: 0, C2: 4, lambda_1/lambda_0: -12}\n",
      "particular_solution: -3*t**2 + 4*t\n",
      "extrema_value: 7/2\n",
      "\n"
     ]
    }
   ],
   "source": [
    "solver = calculus_of_variations.IsoperimetricSolver(\n",
    "    f0=\"x_diff ** 2 - t\",\n",
    "    t0=\"0\", t1=\"1\",\n",
    "    x0=\"0\", x1=\"1\",\n",
    "    f_list=\"x\",\n",
    "    alpha_list=\"1\",\n",
    ")\n",
    "solver.solve()"
   ]
  },
  {
   "cell_type": "code",
   "execution_count": null,
   "id": "462fa1fa",
   "metadata": {},
   "outputs": [],
   "source": []
  },
  {
   "cell_type": "code",
   "execution_count": 28,
   "id": "19b31434",
   "metadata": {},
   "outputs": [
    {
     "name": "stdout",
     "output_type": "stream",
     "text": [
      "sqrt((Derivative(y(x), x)**2 + 1)*y(x))\n"
     ]
    }
   ],
   "source": [
    "from sympy import diff, dsolve, integrate, solve, var\n",
    "from sympy import *\n",
    "\n",
    "x = var(\"x\")\n",
    "y = Function(\"y\")(x)\n",
    "dy = diff(y, x)\n",
    "\n",
    "k = var(\"k\")\n",
    "C2 = var(\"C2\")\n",
    "\n",
    "f = sqrt(y*(1+diff(y, x)**2))\n",
    "print(f)\n",
    "\n",
    "i = simplify(f - dy*diff(f, dy))\n",
    "Eqn = Eq(i, k)"
   ]
  },
  {
   "cell_type": "code",
   "execution_count": 29,
   "id": "c31493f3",
   "metadata": {},
   "outputs": [
    {
     "data": {
      "text/latex": [
       "$\\displaystyle \\frac{\\sqrt{\\left(\\left(\\frac{d}{d x} y{\\left(x \\right)}\\right)^{2} + 1\\right) y{\\left(x \\right)}}}{\\left(\\frac{d}{d x} y{\\left(x \\right)}\\right)^{2} + 1} = k$"
      ],
      "text/plain": [
       "Eq(sqrt((Derivative(y(x), x)**2 + 1)*y(x))/(Derivative(y(x), x)**2 + 1), k)"
      ]
     },
     "execution_count": 29,
     "metadata": {},
     "output_type": "execute_result"
    }
   ],
   "source": [
    "Eqn"
   ]
  },
  {
   "cell_type": "code",
   "execution_count": 30,
   "id": "fb579cc3",
   "metadata": {},
   "outputs": [
    {
     "data": {
      "text/plain": [
       "[Eq(y(x), C1 - I*x),\n",
       " Eq(y(x), C1 + I*x),\n",
       " Eq(y(x), C1**2/(4*k**2) - C1*x/(2*k**2) + k**2 + x**2/(4*k**2))]"
      ]
     },
     "execution_count": 30,
     "metadata": {},
     "output_type": "execute_result"
    }
   ],
   "source": [
    "dsolve(Eqn)"
   ]
  },
  {
   "cell_type": "code",
   "execution_count": 33,
   "id": "4fd09ef2",
   "metadata": {},
   "outputs": [],
   "source": [
    "y = C1**2/(4*k**2) - C1*x/(2*k**2) + k**2 + x**2/(4*k**2)"
   ]
  },
  {
   "cell_type": "code",
   "execution_count": 34,
   "id": "e7cd77c5",
   "metadata": {},
   "outputs": [
    {
     "data": {
      "text/latex": [
       "$\\displaystyle \\frac{C_{1}^{2}}{4 k^{2}} - \\frac{C_{1} x}{2 k^{2}} + k^{2} + \\frac{x^{2}}{4 k^{2}}$"
      ],
      "text/plain": [
       "C1**2/(4*k**2) - C1*x/(2*k**2) + k**2 + x**2/(4*k**2)"
      ]
     },
     "execution_count": 34,
     "metadata": {},
     "output_type": "execute_result"
    }
   ],
   "source": [
    "y"
   ]
  },
  {
   "cell_type": "code",
   "execution_count": 42,
   "id": "b3b148f3",
   "metadata": {},
   "outputs": [
    {
     "name": "stdout",
     "output_type": "stream",
     "text": [
      "sqrt(Derivative(y(x), x)**2 + 1)/x\n"
     ]
    },
    {
     "ename": "TypeError",
     "evalue": "'y' object is not callable",
     "output_type": "error",
     "traceback": [
      "\u001b[1;31m---------------------------------------------------------------------------\u001b[0m",
      "\u001b[1;31mTypeError\u001b[0m                                 Traceback (most recent call last)",
      "Input \u001b[1;32mIn [42]\u001b[0m, in \u001b[0;36m<cell line: 17>\u001b[1;34m()\u001b[0m\n\u001b[0;32m     14\u001b[0m i \u001b[38;5;241m=\u001b[39m simplify(diff(f, dy))\n\u001b[0;32m     15\u001b[0m eqn \u001b[38;5;241m=\u001b[39m Eq(i, k)\n\u001b[1;32m---> 17\u001b[0m dsolve(eqn, ics\u001b[38;5;241m=\u001b[39m{\u001b[43my\u001b[49m\u001b[43m(\u001b[49m\u001b[38;5;241;43m1\u001b[39;49m\u001b[43m)\u001b[49m: \u001b[38;5;241m0\u001b[39m, dy(\u001b[38;5;241m2\u001b[39m): \u001b[38;5;241m1\u001b[39m})\n",
      "\u001b[1;31mTypeError\u001b[0m: 'y' object is not callable"
     ]
    }
   ],
   "source": [
    "from sympy import diff, dsolve, integrate, solve, var\n",
    "from sympy import *\n",
    "\n",
    "x = var(\"x\")\n",
    "y = Function(\"y\")(x)\n",
    "dy = diff(y, x)\n",
    "\n",
    "k = var(\"k\")\n",
    "C2 = var(\"C2\")\n",
    "\n",
    "f = (1/x)*sqrt((1+dy**2))\n",
    "print(f)\n",
    "\n",
    "i = simplify(diff(f, dy))\n",
    "eqn = Eq(i, k)\n",
    "\n",
    "dsolve(eqn, ics={y(1): 0, dy(2): 1})"
   ]
  },
  {
   "cell_type": "code",
   "execution_count": 53,
   "id": "ba08c62f",
   "metadata": {},
   "outputs": [
    {
     "name": "stdout",
     "output_type": "stream",
     "text": [
      "x**2*Derivative(y(x), x)**2 + 2*(x + y(x))*y(x)\n"
     ]
    },
    {
     "ename": "TypeError",
     "evalue": "'y' object is not callable",
     "output_type": "error",
     "traceback": [
      "\u001b[1;31m---------------------------------------------------------------------------\u001b[0m",
      "\u001b[1;31mTypeError\u001b[0m                                 Traceback (most recent call last)",
      "Input \u001b[1;32mIn [53]\u001b[0m, in \u001b[0;36m<cell line: 13>\u001b[1;34m()\u001b[0m\n\u001b[0;32m      9\u001b[0m \u001b[38;5;28mprint\u001b[39m(f)\n\u001b[0;32m     11\u001b[0m eu \u001b[38;5;241m=\u001b[39m Eq(diff(f, y) \u001b[38;5;241m-\u001b[39m diff(diff(f, dy), x), \u001b[38;5;241m0\u001b[39m)\n\u001b[1;32m---> 13\u001b[0m sol1 \u001b[38;5;241m=\u001b[39m dsolve(eqn, \u001b[43my\u001b[49m\u001b[43m(\u001b[49m\u001b[43mx\u001b[49m\u001b[43m)\u001b[49m)\n",
      "\u001b[1;31mTypeError\u001b[0m: 'y' object is not callable"
     ]
    }
   ],
   "source": [
    "from sympy import diff, dsolve, integrate, solve, var\n",
    "from sympy import *\n",
    "\n",
    "x = var(\"x\")\n",
    "y = Function(\"y\")(x)\n",
    "dy = diff(y, x)\n",
    "\n",
    "f = x**2 * dy**2 + 2 * y * (x + y)\n",
    "print(f)\n",
    "\n",
    "eu = Eq(diff(f, y) - diff(diff(f, dy), x), 0)\n",
    "\n",
    "sol1 = dsolve(eqn, y(x))"
   ]
  },
  {
   "cell_type": "code",
   "execution_count": 49,
   "id": "187db664",
   "metadata": {},
   "outputs": [
    {
     "data": {
      "text/plain": [
       "[Eq(y(x), C1 - k*Piecewise((I*x**2*sqrt(1/(k**2*x**2 - 1)) - I*sqrt(1/(k**2*x**2 - 1))/k**2, Ne(k, 0)), (x**2/2, True))),\n",
       " Eq(y(x), C1 + k*Piecewise((I*x**2*sqrt(1/(k**2*x**2 - 1)) - I*sqrt(1/(k**2*x**2 - 1))/k**2, Ne(k, 0)), (x**2/2, True)))]"
      ]
     },
     "execution_count": 49,
     "metadata": {},
     "output_type": "execute_result"
    }
   ],
   "source": [
    "sol1"
   ]
  },
  {
   "cell_type": "code",
   "execution_count": 52,
   "id": "966711f9",
   "metadata": {},
   "outputs": [
    {
     "ename": "TypeError",
     "evalue": "unsupported operand type(s) for -: 'Equality' and 'int'",
     "output_type": "error",
     "traceback": [
      "\u001b[1;31m---------------------------------------------------------------------------\u001b[0m",
      "\u001b[1;31mTypeError\u001b[0m                                 Traceback (most recent call last)",
      "Input \u001b[1;32mIn [52]\u001b[0m, in \u001b[0;36m<cell line: 1>\u001b[1;34m()\u001b[0m\n\u001b[1;32m----> 1\u001b[0m constants \u001b[38;5;241m=\u001b[39m solve([\u001b[43msol1\u001b[49m\u001b[43m[\u001b[49m\u001b[38;5;241;43m0\u001b[39;49m\u001b[43m]\u001b[49m\u001b[38;5;241;43m.\u001b[39;49m\u001b[43msubs\u001b[49m\u001b[43m(\u001b[49m\u001b[43mx\u001b[49m\u001b[43m,\u001b[49m\u001b[38;5;241;43m1\u001b[39;49m\u001b[43m)\u001b[49m\u001b[43m \u001b[49m\u001b[38;5;241;43m-\u001b[39;49m\u001b[43m \u001b[49m\u001b[38;5;241;43m0\u001b[39;49m, soln[\u001b[38;5;241m0\u001b[39m]\u001b[38;5;241m.\u001b[39msubs(x,\u001b[38;5;241m0\u001b[39m)\u001b[38;5;241m-\u001b[39m \u001b[38;5;241m0\u001b[39m])\n\u001b[0;32m      2\u001b[0m constants\n",
      "\u001b[1;31mTypeError\u001b[0m: unsupported operand type(s) for -: 'Equality' and 'int'"
     ]
    }
   ],
   "source": [
    "constants = solve([sol1[0].subs(x,1) - 0, soln[0].subs(x,0)- 0])\n",
    "constants"
   ]
  },
  {
   "cell_type": "code",
   "execution_count": null,
   "id": "c78c914d",
   "metadata": {},
   "outputs": [],
   "source": []
  }
 ],
 "metadata": {
  "kernelspec": {
   "display_name": "Python 3",
   "language": "python",
   "name": "python3"
  },
  "language_info": {
   "codemirror_mode": {
    "name": "ipython",
    "version": 3
   },
   "file_extension": ".py",
   "mimetype": "text/x-python",
   "name": "python",
   "nbconvert_exporter": "python",
   "pygments_lexer": "ipython3",
   "version": "3.8.8"
  }
 },
 "nbformat": 4,
 "nbformat_minor": 5
}
