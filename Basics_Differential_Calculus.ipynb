{
 "cells": [
  {
   "cell_type": "markdown",
   "metadata": {},
   "source": [
    "# DIFFERENTIAL CALCULUS"
   ]
  },
  {
   "cell_type": "markdown",
   "metadata": {},
   "source": [
    "## Introduction to SymPy"
   ]
  },
  {
   "cell_type": "markdown",
   "metadata": {},
   "source": [
    "[SymPy](https://www.sympy.org/en/index.html) is a Python library for symbolic mathematics. It aims to become a full-featured computer algebra system (CAS) while keeping the code as simple as possible in order to be comprehensible and easily extensible. SymPy is written entirely in Python.\n",
    "\n",
    "Documentation : [SymPy Documentation](https://docs.sympy.org/latest/index.html)"
   ]
  },
  {
   "cell_type": "markdown",
   "metadata": {},
   "source": [
    "Symbolic computation deals with the computation of mathematical objects symbolically. This means that the mathematical objects are represented exactly, not approximately, and mathematical expressions with unevaluated variables are left in symbolic form."
   ]
  },
  {
   "cell_type": "markdown",
   "metadata": {},
   "source": [
    "For Example: 9 is a perfect square, so we get the exact answer, 3. But suppose we computed the square root of a number that isn’t a perfect square. Say square root of 8,<br> "
   ]
  },
  {
   "cell_type": "markdown",
   "metadata": {},
   "source": [
    "`math.sqrt(8)`"
   ]
  },
  {
   "cell_type": "markdown",
   "metadata": {},
   "source": [
    "`2.82842712475`"
   ]
  },
  {
   "cell_type": "markdown",
   "metadata": {},
   "source": [
    "We get an approximate result 2.82842712475 which is not an exact root of 8. $\\sqrt{8}$ is an irrational number and cannot be represented by finite number of decimals."
   ]
  },
  {
   "cell_type": "markdown",
   "metadata": {},
   "source": [
    "Recall: $\\sqrt{8} = 2\\sqrt{2}$"
   ]
  },
  {
   "cell_type": "markdown",
   "metadata": {},
   "source": [
    "This is where symbolic computation comes in. With a symbolic computation system like SymPy, square roots of numbers that are not perfect squares are left unevaluated by default."
   ]
  },
  {
   "cell_type": "markdown",
   "metadata": {},
   "source": [
    "`import sympy`"
   ]
  },
  {
   "cell_type": "markdown",
   "metadata": {},
   "source": [
    "`sympy.sqrt(8)`"
   ]
  },
  {
   "cell_type": "markdown",
   "metadata": {},
   "source": [
    "When we use the above code, we get the answer $2\\sqrt{2}$ (or `2*sqrt(2)`)"
   ]
  },
  {
   "cell_type": "markdown",
   "metadata": {},
   "source": [
    "The above example starts to show how we can manipulate irrational numbers exactly using SymPy. But it is much more powerful than that. Symbolic computation systems (also often called computer algebra systems, or just CASs) such as SymPy are capable of computing symbolic expressions with variables."
   ]
  },
  {
   "cell_type": "markdown",
   "metadata": {},
   "source": [
    "In this chapter, we try to use `SymPy` library **only** for which is easy, simple, has direct approach to these problems and also to avoid confusion switching between `NumPy` and `SymPy`.<br><br>\n",
    "Once you start using `SymPy`, you will understand the way it operates and transforms the expressions. Few codes/keywords are explained below. For further reference, read the documentation.  "
   ]
  },
  {
   "cell_type": "markdown",
   "metadata": {},
   "source": [
    "The execution depends on the environment/compiler one is working with. If you want the output of each code executed, run each code seperately."
   ]
  },
  {
   "cell_type": "markdown",
   "metadata": {},
   "source": [
    "## Derivatives and $n^{th}$ derivatives"
   ]
  },
  {
   "cell_type": "code",
   "execution_count": 1,
   "metadata": {},
   "outputs": [],
   "source": [
    "from sympy import *"
   ]
  },
  {
   "cell_type": "markdown",
   "metadata": {},
   "source": [
    "First import the module/library that you want to use. Here, we import `SymPy` library."
   ]
  },
  {
   "cell_type": "code",
   "execution_count": 2,
   "metadata": {},
   "outputs": [],
   "source": [
    "x, y, z = symbols('x y z')"
   ]
  },
  {
   "cell_type": "markdown",
   "metadata": {},
   "source": [
    "Unlike many symbolic manipulation systems you may have used, in SymPy, variables are not defined automatically. To define variables, we must use symbols.<br><br>\n",
    "`symbols` takes a string of variable names separated by spaces or commas, and creates Symbols out of them.<br><br>For now, let us just define the most common variable names, $x$, $y$, and $z$, for use through the rest of this section."
   ]
  },
  {
   "cell_type": "markdown",
   "metadata": {},
   "source": [
    "Define the Function"
   ]
  },
  {
   "cell_type": "code",
   "execution_count": 3,
   "metadata": {},
   "outputs": [
    {
     "data": {
      "text/latex": [
       "$\\displaystyle \\sin^{3}{\\left(x \\right)}$"
      ],
      "text/plain": [
       "sin(x)**3"
      ]
     },
     "execution_count": 3,
     "metadata": {},
     "output_type": "execute_result"
    }
   ],
   "source": [
    "y = sin(x)**3\n",
    "y"
   ]
  },
  {
   "cell_type": "markdown",
   "metadata": {},
   "source": [
    "To differeentiate the function, use the syntax `diff(*func, *var)`"
   ]
  },
  {
   "cell_type": "code",
   "execution_count": 4,
   "metadata": {},
   "outputs": [
    {
     "data": {
      "text/latex": [
       "$\\displaystyle 3 \\sin^{2}{\\left(x \\right)} \\cos{\\left(x \\right)}$"
      ],
      "text/plain": [
       "3*sin(x)**2*cos(x)"
      ]
     },
     "execution_count": 4,
     "metadata": {},
     "output_type": "execute_result"
    }
   ],
   "source": [
    "y11 = diff(sin(x)**3, x)\n",
    "y11"
   ]
  },
  {
   "cell_type": "code",
   "execution_count": 5,
   "metadata": {},
   "outputs": [
    {
     "data": {
      "text/latex": [
       "$\\displaystyle 3 \\sin^{2}{\\left(x \\right)} \\cos{\\left(x \\right)}$"
      ],
      "text/plain": [
       "3*sin(x)**2*cos(x)"
      ]
     },
     "execution_count": 5,
     "metadata": {},
     "output_type": "execute_result"
    }
   ],
   "source": [
    "y12 = diff(y, x)\n",
    "y12"
   ]
  },
  {
   "cell_type": "markdown",
   "metadata": {},
   "source": [
    "You can directly use the function or you can define/assign the function to a variable and then use the variable in `diff`."
   ]
  },
  {
   "cell_type": "markdown",
   "metadata": {},
   "source": [
    "`diff` an take multiple derivatives at once. To take multiple derivatives, pass the variable as many times as you wish to differentiate, or pass a number after the variable."
   ]
  },
  {
   "cell_type": "code",
   "execution_count": 6,
   "metadata": {},
   "outputs": [
    {
     "data": {
      "text/latex": [
       "$\\displaystyle - 3 \\sin^{3}{\\left(x \\right)} + 6 \\sin{\\left(x \\right)} \\cos^{2}{\\left(x \\right)}$"
      ],
      "text/plain": [
       "-3*sin(x)**3 + 6*sin(x)*cos(x)**2"
      ]
     },
     "execution_count": 6,
     "metadata": {},
     "output_type": "execute_result"
    }
   ],
   "source": [
    "y21 = diff(y11, x)\n",
    "y21"
   ]
  },
  {
   "cell_type": "code",
   "execution_count": 7,
   "metadata": {},
   "outputs": [
    {
     "data": {
      "text/latex": [
       "$\\displaystyle 3 \\left(- \\sin^{2}{\\left(x \\right)} + 2 \\cos^{2}{\\left(x \\right)}\\right) \\sin{\\left(x \\right)}$"
      ],
      "text/plain": [
       "3*(-sin(x)**2 + 2*cos(x)**2)*sin(x)"
      ]
     },
     "execution_count": 7,
     "metadata": {},
     "output_type": "execute_result"
    }
   ],
   "source": [
    "y22 = diff(y, x, x)\n",
    "y22"
   ]
  },
  {
   "cell_type": "code",
   "execution_count": 8,
   "metadata": {},
   "outputs": [
    {
     "data": {
      "text/latex": [
       "$\\displaystyle 3 \\left(- \\sin^{2}{\\left(x \\right)} + 2 \\cos^{2}{\\left(x \\right)}\\right) \\sin{\\left(x \\right)}$"
      ],
      "text/plain": [
       "3*(-sin(x)**2 + 2*cos(x)**2)*sin(x)"
      ]
     },
     "execution_count": 8,
     "metadata": {},
     "output_type": "execute_result"
    }
   ],
   "source": [
    "y23 = diff(y, x, 2)\n",
    "y23"
   ]
  },
  {
   "cell_type": "markdown",
   "metadata": {},
   "source": [
    "Observe that all the above three results have the same value."
   ]
  },
  {
   "cell_type": "code",
   "execution_count": 9,
   "metadata": {},
   "outputs": [
    {
     "data": {
      "text/latex": [
       "$\\displaystyle \\sin^{3}{\\left(x \\right)}$"
      ],
      "text/plain": [
       "sin(x)**3"
      ]
     },
     "execution_count": 9,
     "metadata": {},
     "output_type": "execute_result"
    }
   ],
   "source": [
    "diff(y, x, 0)"
   ]
  },
  {
   "cell_type": "markdown",
   "metadata": {},
   "source": [
    "The above command differentiates the function zero times. Meaning, it will return the function as defined (or the original function)."
   ]
  },
  {
   "cell_type": "markdown",
   "metadata": {},
   "source": [
    "Differentiating $y_{2}$ w.r.t $x$ to find $\\frac{d^{3}y}{dx^{3}}$"
   ]
  },
  {
   "cell_type": "code",
   "execution_count": 10,
   "metadata": {},
   "outputs": [
    {
     "data": {
      "text/latex": [
       "$\\displaystyle - 21 \\sin^{2}{\\left(x \\right)} \\cos{\\left(x \\right)} + 6 \\cos^{3}{\\left(x \\right)}$"
      ],
      "text/plain": [
       "-21*sin(x)**2*cos(x) + 6*cos(x)**3"
      ]
     },
     "execution_count": 10,
     "metadata": {},
     "output_type": "execute_result"
    }
   ],
   "source": [
    "y31 = diff(y21, x)\n",
    "y31"
   ]
  },
  {
   "cell_type": "code",
   "execution_count": 11,
   "metadata": {},
   "outputs": [
    {
     "data": {
      "text/latex": [
       "$\\displaystyle 3 \\left(- 7 \\sin^{2}{\\left(x \\right)} + 2 \\cos^{2}{\\left(x \\right)}\\right) \\cos{\\left(x \\right)}$"
      ],
      "text/plain": [
       "3*(-7*sin(x)**2 + 2*cos(x)**2)*cos(x)"
      ]
     },
     "execution_count": 11,
     "metadata": {},
     "output_type": "execute_result"
    }
   ],
   "source": [
    "y32 = diff(y, x, x, x)\n",
    "y32"
   ]
  },
  {
   "cell_type": "code",
   "execution_count": 12,
   "metadata": {},
   "outputs": [
    {
     "data": {
      "text/latex": [
       "$\\displaystyle 3 \\left(- 7 \\sin^{2}{\\left(x \\right)} + 2 \\cos^{2}{\\left(x \\right)}\\right) \\cos{\\left(x \\right)}$"
      ],
      "text/plain": [
       "3*(-7*sin(x)**2 + 2*cos(x)**2)*cos(x)"
      ]
     },
     "execution_count": 12,
     "metadata": {},
     "output_type": "execute_result"
    }
   ],
   "source": [
    "y33 = diff(y, x, 3)\n",
    "y33"
   ]
  },
  {
   "cell_type": "markdown",
   "metadata": {},
   "source": [
    "To check if the results are equal, we `simplify` the equations and use the boolean operator `==`, which results `True` if they are exactly equal."
   ]
  },
  {
   "cell_type": "code",
   "execution_count": 13,
   "metadata": {},
   "outputs": [
    {
     "data": {
      "text/plain": [
       "True"
      ]
     },
     "execution_count": 13,
     "metadata": {},
     "output_type": "execute_result"
    }
   ],
   "source": [
    "simplify(y31) == simplify(y32)"
   ]
  },
  {
   "cell_type": "markdown",
   "metadata": {},
   "source": [
    "Observe that equations `y31` and `y32` are same only after simplification. Suppose we do not `simplify`!!"
   ]
  },
  {
   "cell_type": "code",
   "execution_count": 14,
   "metadata": {},
   "outputs": [
    {
     "data": {
      "text/plain": [
       "False"
      ]
     },
     "execution_count": 14,
     "metadata": {},
     "output_type": "execute_result"
    }
   ],
   "source": [
    "y31 == y32"
   ]
  },
  {
   "cell_type": "markdown",
   "metadata": {},
   "source": [
    "This gives the result `False`. Interesting!"
   ]
  },
  {
   "cell_type": "code",
   "execution_count": 15,
   "metadata": {},
   "outputs": [
    {
     "data": {
      "text/latex": [
       "$\\displaystyle 3 \\left(2 - 9 \\sin^{2}{\\left(x \\right)}\\right) \\cos{\\left(x \\right)}$"
      ],
      "text/plain": [
       "3*(2 - 9*sin(x)**2)*cos(x)"
      ]
     },
     "execution_count": 15,
     "metadata": {},
     "output_type": "execute_result"
    }
   ],
   "source": [
    "simplify(y31)"
   ]
  },
  {
   "cell_type": "markdown",
   "metadata": {},
   "source": [
    "### Exercise Problems\n",
    "<br>\n",
    "<br>\n",
    "Few problems are solved below."
   ]
  },
  {
   "cell_type": "markdown",
   "metadata": {},
   "source": [
    "1. Differentiate $2x^{2} + x^{3} + sin(x)$"
   ]
  },
  {
   "cell_type": "markdown",
   "metadata": {},
   "source": [
    "First import `sympy` and defince the variables."
   ]
  },
  {
   "cell_type": "code",
   "execution_count": 1,
   "metadata": {},
   "outputs": [],
   "source": [
    "from sympy import *\n",
    "x = symbols('x')"
   ]
  },
  {
   "cell_type": "code",
   "execution_count": null,
   "metadata": {},
   "outputs": [],
   "source": [
    "diff(2 * x**2 + x**3 + sin(x), x)"
   ]
  },
  {
   "cell_type": "markdown",
   "metadata": {},
   "source": [
    "2. Differentiate: \n",
    "<br>\n",
    "i) $sin^{2}x . cos(2x)$<br>\n",
    "ii) $x^{3} + 2sin(x)sec(x)$<br>\n",
    "iii) $e^{2x} + x^{2} + 1$<br>\n",
    "iv) $log(x) + e^{5x} + 1$"
   ]
  },
  {
   "cell_type": "code",
   "execution_count": null,
   "metadata": {},
   "outputs": [],
   "source": [
    "D1 = diff(sin(x)**2 * cos(2*x))\n",
    "D1"
   ]
  },
  {
   "cell_type": "code",
   "execution_count": null,
   "metadata": {},
   "outputs": [],
   "source": [
    "simplify(D1)"
   ]
  },
  {
   "cell_type": "markdown",
   "metadata": {},
   "source": [
    "ii)"
   ]
  },
  {
   "cell_type": "code",
   "execution_count": null,
   "metadata": {},
   "outputs": [],
   "source": [
    "D2 = diff(x**2 + 2 * sin(x) * sec(x))\n",
    "D2"
   ]
  },
  {
   "cell_type": "code",
   "execution_count": null,
   "metadata": {},
   "outputs": [],
   "source": [
    "simplify(D2)"
   ]
  },
  {
   "cell_type": "code",
   "execution_count": null,
   "metadata": {},
   "outputs": [],
   "source": [
    "diff(exp(2*x) + x**2 + 1)"
   ]
  },
  {
   "cell_type": "code",
   "execution_count": null,
   "metadata": {},
   "outputs": [],
   "source": [
    "diff(log(x) + exp(5*x) + 1)"
   ]
  },
  {
   "cell_type": "markdown",
   "metadata": {},
   "source": [
    "3. Differentiate twice w.r.t $x$<br>\n",
    "i) $(x^{2} + 1)^{5}$<br>\n",
    "ii) $log(x)$<br>\n",
    "iii) $e^{2x^{2}}$"
   ]
  },
  {
   "cell_type": "code",
   "execution_count": null,
   "metadata": {},
   "outputs": [],
   "source": [
    "diff((x**2 + 1)**5, x, 2)"
   ]
  },
  {
   "cell_type": "code",
   "execution_count": null,
   "metadata": {},
   "outputs": [],
   "source": [
    "D2 = log(x)\n",
    "D2"
   ]
  },
  {
   "cell_type": "code",
   "execution_count": null,
   "metadata": {},
   "outputs": [],
   "source": [
    "D22 = diff(D2, x, 2)\n",
    "D22"
   ]
  },
  {
   "cell_type": "code",
   "execution_count": null,
   "metadata": {},
   "outputs": [],
   "source": [
    "D3 = diff(exp(2 * x**2), x, 2)\n",
    "D3"
   ]
  },
  {
   "cell_type": "markdown",
   "metadata": {},
   "source": [
    "4. Apply 4th order differentiation w.r.t $x$ :<br>\n",
    "i) $4e^{3x^{2}}$<br>\n",
    "ii) $sin(3x) + cos(5x)$<br>\n",
    "iii) $\\frac{1}{(1 - x)^{5}}$<br>\n",
    "iv) $log(4x) + 3cos(8x)$<br>\n",
    "v) $(x + 1)^{10}$<br>\n",
    "vi) $tan^{-1}(x)$"
   ]
  },
  {
   "cell_type": "code",
   "execution_count": null,
   "metadata": {},
   "outputs": [],
   "source": [
    "diff(4 * exp(3 * x**2), x, 4)"
   ]
  },
  {
   "cell_type": "markdown",
   "metadata": {},
   "source": [
    "Or you can use the below commands. Define the function as `D1` and then differentiate `D4` w.r.t $x$."
   ]
  },
  {
   "cell_type": "code",
   "execution_count": null,
   "metadata": {},
   "outputs": [],
   "source": [
    "D1 = 4 * exp(3 * x**2)\n",
    "D1"
   ]
  },
  {
   "cell_type": "code",
   "execution_count": null,
   "metadata": {},
   "outputs": [],
   "source": [
    "diff(D1, x, 4)"
   ]
  },
  {
   "cell_type": "code",
   "execution_count": null,
   "metadata": {},
   "outputs": [],
   "source": [
    "D2 = sin(3*x) + cos(5*x)\n",
    "diff(D2, x, 4)"
   ]
  },
  {
   "cell_type": "code",
   "execution_count": null,
   "metadata": {},
   "outputs": [],
   "source": [
    "diff(1/(1-x)**5, x, 4)"
   ]
  },
  {
   "cell_type": "code",
   "execution_count": null,
   "metadata": {},
   "outputs": [],
   "source": [
    "diff(log(4 * x) + 3 * cos(8 * x), x, 4)"
   ]
  },
  {
   "cell_type": "code",
   "execution_count": null,
   "metadata": {},
   "outputs": [],
   "source": [
    "(diff((x**2 + 1)**10, x, 4))"
   ]
  },
  {
   "cell_type": "markdown",
   "metadata": {},
   "source": [
    "Use `atan(x)` for $tan^{-1}(x)$."
   ]
  },
  {
   "cell_type": "code",
   "execution_count": null,
   "metadata": {},
   "outputs": [],
   "source": [
    "diff(atan(x), x, 4)"
   ]
  },
  {
   "cell_type": "markdown",
   "metadata": {},
   "source": [
    "We can use `simplify` when we get equations like above form."
   ]
  },
  {
   "cell_type": "code",
   "execution_count": null,
   "metadata": {},
   "outputs": [],
   "source": [
    "simplify(diff(atan(x), x, 4))"
   ]
  },
  {
   "cell_type": "markdown",
   "metadata": {},
   "source": [
    "OR"
   ]
  },
  {
   "cell_type": "code",
   "execution_count": null,
   "metadata": {},
   "outputs": [],
   "source": [
    "D6 = atan(x)\n",
    "D64 = diff(D6, x, 4)\n",
    "simplify(D64)"
   ]
  },
  {
   "cell_type": "markdown",
   "metadata": {},
   "source": [
    "5.\n",
    "Solve $\\frac{d^{3}}{dt^{3}} (x^{5} + 3x^{4} + 3x +7)$"
   ]
  },
  {
   "cell_type": "code",
   "execution_count": null,
   "metadata": {},
   "outputs": [],
   "source": [
    "y = x**5 + 3*x**4 + 3*x + 7\n",
    "y"
   ]
  },
  {
   "cell_type": "code",
   "execution_count": null,
   "metadata": {},
   "outputs": [],
   "source": [
    "y3 = diff(y, x, 3)\n",
    "y3"
   ]
  },
  {
   "cell_type": "markdown",
   "metadata": {},
   "source": [
    "`subs` is used to substitute values of the expressions. `*func.subs(*var to be replaced, *valuethat needs to be substituted)`. Here, $x$ is replaced/substituted with the value 9.7."
   ]
  },
  {
   "cell_type": "code",
   "execution_count": null,
   "metadata": {},
   "outputs": [],
   "source": [
    "y3.subs(x, 9.7)"
   ]
  },
  {
   "cell_type": "markdown",
   "metadata": {},
   "source": [
    "`degree()` gives the highest degree of the polynomial expression. "
   ]
  },
  {
   "cell_type": "code",
   "execution_count": null,
   "metadata": {},
   "outputs": [],
   "source": [
    "degree(y3)"
   ]
  },
  {
   "cell_type": "markdown",
   "metadata": {},
   "source": [
    "`solve()` will find the roots of the equations."
   ]
  },
  {
   "cell_type": "code",
   "execution_count": null,
   "metadata": {},
   "outputs": [],
   "source": [
    "solve(y3)"
   ]
  },
  {
   "cell_type": "markdown",
   "metadata": {},
   "source": [
    "To find the co-efficients use : `Poly(*func).all_coeffs()`. Returns all coefficients from a univariate polynomial `y3`."
   ]
  },
  {
   "cell_type": "code",
   "execution_count": null,
   "metadata": {},
   "outputs": [],
   "source": [
    "Poly(y3).all_coeffs()"
   ]
  },
  {
   "cell_type": "markdown",
   "metadata": {},
   "source": [
    "## $n^{th}$ derivative without Leibnitz rule"
   ]
  },
  {
   "cell_type": "code",
   "execution_count": null,
   "metadata": {},
   "outputs": [],
   "source": [
    "from sympy import *\n",
    "x, y, a = symbols('x y a')"
   ]
  },
  {
   "cell_type": "code",
   "execution_count": null,
   "metadata": {},
   "outputs": [],
   "source": [
    "#Define the function\n",
    "F = cos(x)*cos(2*x)*cos(3*x)\n",
    "F #To dislay the output."
   ]
  },
  {
   "cell_type": "code",
   "execution_count": null,
   "metadata": {},
   "outputs": [],
   "source": [
    "#Differentiate and simplify it.\n",
    "F3 = diff(F, x, 3)\n",
    "simplify(F3)"
   ]
  },
  {
   "cell_type": "code",
   "execution_count": null,
   "metadata": {},
   "outputs": [],
   "source": [
    "F32 = diff(F, x, x, x)\n",
    "simplify(F32)"
   ]
  },
  {
   "cell_type": "code",
   "execution_count": null,
   "metadata": {},
   "outputs": [],
   "source": [
    "F3 == F32"
   ]
  },
  {
   "cell_type": "markdown",
   "metadata": {},
   "source": [
    "Note: You can either define the function, ie., `F` = $f(x)$ or use the function directly in `diff`."
   ]
  },
  {
   "cell_type": "markdown",
   "metadata": {},
   "source": [
    "It is recommended that the beginners gives the inputs separately. Use different line of codes for each execution of the given function.\n",
    "* Define the function\n",
    "* Differentiate\n",
    "* Simplify if required."
   ]
  },
  {
   "cell_type": "markdown",
   "metadata": {},
   "source": [
    "Find the $6^{th}$ derivatives: "
   ]
  },
  {
   "cell_type": "code",
   "execution_count": null,
   "metadata": {},
   "outputs": [],
   "source": [
    "diff(sin(x), x, 6)"
   ]
  },
  {
   "cell_type": "code",
   "execution_count": null,
   "metadata": {},
   "outputs": [],
   "source": [
    "diff(x * log(x), x, 6)"
   ]
  },
  {
   "cell_type": "code",
   "execution_count": null,
   "metadata": {},
   "outputs": [],
   "source": [
    "diff(5**(3 * x), x, 6)"
   ]
  },
  {
   "cell_type": "markdown",
   "metadata": {},
   "source": [
    "One can use `simplify` as shown below which will shorten the command lines.<br>\n",
    "In a single line, the function, its differentiation and simplification "
   ]
  },
  {
   "cell_type": "code",
   "execution_count": null,
   "metadata": {},
   "outputs": [],
   "source": [
    "F_61 = simplify(diff(a*log(1/(1+x**2)), x, 6))\n",
    "F_61"
   ]
  },
  {
   "cell_type": "markdown",
   "metadata": {},
   "source": [
    "We have to define the symbols if we are using it in a function. `a` is defined as symbol earlier<br>\n",
    "Else an error will be popped out. "
   ]
  },
  {
   "cell_type": "code",
   "execution_count": null,
   "metadata": {},
   "outputs": [],
   "source": [
    "F_62 = diff(exp(-4*x), x, 6)\n",
    "F_62"
   ]
  },
  {
   "cell_type": "code",
   "execution_count": null,
   "metadata": {},
   "outputs": [],
   "source": [
    "F_63 = diff(atan(x / a), x, 6)\n",
    "F_63"
   ]
  },
  {
   "cell_type": "code",
   "execution_count": null,
   "metadata": {},
   "outputs": [],
   "source": [
    "simplify(F_63)"
   ]
  },
  {
   "cell_type": "markdown",
   "metadata": {},
   "source": [
    "Observe the above two results of `F_63`"
   ]
  },
  {
   "cell_type": "code",
   "execution_count": null,
   "metadata": {},
   "outputs": [],
   "source": [
    "simplify(diff(atan((1 + x)/(1 - x)), x, 5))"
   ]
  },
  {
   "cell_type": "code",
   "execution_count": null,
   "metadata": {},
   "outputs": [],
   "source": [
    "simplify(diff(log(x**2 - 4), x, 5))"
   ]
  },
  {
   "cell_type": "markdown",
   "metadata": {},
   "source": [
    "## $n^{th}$ derivative using Leibnitz rule"
   ]
  },
  {
   "cell_type": "markdown",
   "metadata": {},
   "source": [
    "It is recommended to import the library and initialise the variables as symbols everytime you start the environment/session."
   ]
  },
  {
   "cell_type": "markdown",
   "metadata": {},
   "source": [
    "Find the $n^{th}$ derivatives using Leibnitz rule for the following:"
   ]
  },
  {
   "cell_type": "markdown",
   "metadata": {},
   "source": [
    "1. $x^{2} sin(x)$"
   ]
  },
  {
   "cell_type": "code",
   "execution_count": null,
   "metadata": {},
   "outputs": [],
   "source": [
    "from sympy import *\n",
    "u, v, n, x = symbols('u v n x')"
   ]
  },
  {
   "cell_type": "code",
   "execution_count": null,
   "metadata": {},
   "outputs": [],
   "source": [
    "# Define u and v and give the value for n \n",
    "u = x**2\n",
    "v = sin(x)\n",
    "n = 3"
   ]
  },
  {
   "cell_type": "markdown",
   "metadata": {},
   "source": [
    "To find the $n^{th}$ derivative using Leibnitz rule expansion, use the following code. <br><br>\n",
    "Here $C^{n}_{r}$ = $\\binom{n}{r}$ = `binomial(n, r)`"
   ]
  },
  {
   "cell_type": "code",
   "execution_count": null,
   "metadata": {},
   "outputs": [],
   "source": [
    "binomial(n, 0) * diff(u, x, n) * v + binomial(n, 1) * diff(u, x, 2) * diff(v, x, 1) + \\\n",
    "binomial(n, 2) * diff(u, x, 1) * diff(v, x, 2) + binomial(n, 3) * u * diff(v, x, 3)     \n",
    "# '\\'(backslash) shifts the code to the next line"
   ]
  },
  {
   "cell_type": "markdown",
   "metadata": {},
   "source": [
    "2. $e^{x} log(x)$"
   ]
  },
  {
   "cell_type": "code",
   "execution_count": null,
   "metadata": {},
   "outputs": [],
   "source": [
    "u = exp(x)\n",
    "v = log(x)\n",
    "n = 3"
   ]
  },
  {
   "cell_type": "code",
   "execution_count": null,
   "metadata": {},
   "outputs": [],
   "source": [
    "(binomial(n, 0) * diff(u, x, n) * v + binomial(n, 1) * diff(u, x, 2) * diff(v, x, 1) + \\\n",
    " binomial(n, 2) * diff(u, x, 1) * diff(v, x, 2) + binomial(n, 3) * u * diff(v, x, 3))"
   ]
  },
  {
   "cell_type": "markdown",
   "metadata": {},
   "source": [
    "Instead of the above expansion, you can use `for` loop which will be easier and quicker."
   ]
  },
  {
   "cell_type": "markdown",
   "metadata": {},
   "source": [
    "* Initialise the `sum1` to 0. Remember: Do not use `sum` which is inbuilt keyword.\n",
    "* Run the `for` loop in the range of `n+1`. Remember:Indexing in Python starts at 0 and ends at n-1 for `range(n)`.\n",
    "* `x += a` is equivalent to `x = x + a`, which repeats for the entire range"
   ]
  },
  {
   "cell_type": "code",
   "execution_count": null,
   "metadata": {},
   "outputs": [],
   "source": [
    "sum1 = 0\n",
    "for i in range(n+1):\n",
    "    sum1 += binomial(n, i) * diff(u, x, n-i) * diff(v, x, i)\n",
    "sum1"
   ]
  },
  {
   "cell_type": "markdown",
   "metadata": {},
   "source": [
    "3. $sin(4x) cos(2x)$"
   ]
  },
  {
   "cell_type": "code",
   "execution_count": null,
   "metadata": {},
   "outputs": [],
   "source": [
    "u = sin(4 * x)\n",
    "v = cos(2 * x)\n",
    "n = 3\n",
    "sum1 = 0\n",
    "for i in range(n+1):\n",
    "    sum1 += binomial(n, i) * diff(u, x, n-i) * diff(v, x, i)\n",
    "sum1"
   ]
  },
  {
   "cell_type": "markdown",
   "metadata": {},
   "source": [
    "4. $e^{2x} sinh(3x)$"
   ]
  },
  {
   "cell_type": "code",
   "execution_count": null,
   "metadata": {},
   "outputs": [],
   "source": [
    "u = exp(2*x)\n",
    "v = sinh(3*x)\n",
    "n = 3\n",
    "sum1 = 0\n",
    "for i in range(n+1):\n",
    "    sum1 += binomial(n, i) * diff(u, x, n-i) * diff(v, x, i)\n",
    "sum1"
   ]
  },
  {
   "cell_type": "markdown",
   "metadata": {},
   "source": [
    "5. $x^{4} sin(2x)$"
   ]
  },
  {
   "cell_type": "code",
   "execution_count": null,
   "metadata": {},
   "outputs": [],
   "source": [
    "u = x**4\n",
    "v = sin(2*x)\n",
    "n = 4\n",
    "sum1 = 0\n",
    "for i in range(n+1):\n",
    "    sum1 += binomial(n, i) * diff(u, x, n-i) * diff(v, x, i)\n",
    "sum1"
   ]
  },
  {
   "cell_type": "markdown",
   "metadata": {},
   "source": [
    "6. $e^{x} x^{2} cos(x)$"
   ]
  },
  {
   "cell_type": "code",
   "execution_count": null,
   "metadata": {},
   "outputs": [],
   "source": [
    "u = exp(x) * x**2\n",
    "v = cos(x)\n",
    "n = 3\n",
    "sum1 = 0\n",
    "for i in range(n+1):\n",
    "    sum1 += binomial(n, i) * diff(u, x, n-i) * diff(v, x, i)\n",
    "sum1"
   ]
  },
  {
   "cell_type": "markdown",
   "metadata": {},
   "source": [
    "`simplify()` attempts to apply all of the simplification functions in an intelligent way to arrive at the simplest form of an expression."
   ]
  },
  {
   "cell_type": "code",
   "execution_count": null,
   "metadata": {},
   "outputs": [],
   "source": [
    "simplify(sum1)"
   ]
  },
  {
   "cell_type": "markdown",
   "metadata": {},
   "source": [
    "`factor()` takes a polynomial and factors it into irreducible factors over the rational numbers."
   ]
  },
  {
   "cell_type": "code",
   "execution_count": null,
   "metadata": {},
   "outputs": [],
   "source": [
    "factor(sum1)"
   ]
  },
  {
   "cell_type": "markdown",
   "metadata": {},
   "source": [
    "Observe the results when you use `simplify()` and `factor()` in the above results.<br><br>\n",
    "If you already know exactly what kind of simplification you are after, it is better to apply the specific simplification function(s) that apply those simplifications."
   ]
  },
  {
   "cell_type": "markdown",
   "metadata": {},
   "source": [
    "7. $x^{4} tan(x)$"
   ]
  },
  {
   "cell_type": "code",
   "execution_count": null,
   "metadata": {},
   "outputs": [],
   "source": [
    "u = x ** 4\n",
    "v = tan(x)\n",
    "n = 3\n",
    "sum1 = 0\n",
    "for i in range(n+1):\n",
    "    sum1 += binomial(n, i) * diff(u, x, n-i) * diff(v, x, i)\n",
    "sum1"
   ]
  },
  {
   "cell_type": "markdown",
   "metadata": {},
   "source": [
    "## Partial derivatives of some standard functions"
   ]
  },
  {
   "cell_type": "markdown",
   "metadata": {},
   "source": [
    "The syntax for partial derivatives is similarly as ordinary derivatives. But the variables $x$ and $y$ are independent and $u$ is a function of $x$ and $y$. $u(x, y)$<br><Br>\n",
    "Specify the differentating variable properly."
   ]
  },
  {
   "cell_type": "markdown",
   "metadata": {},
   "source": [
    "If $u(x, y) = e^{\\frac{x}{y}}$, find $u_{x}, u_{xx}, u_{y}, u_{yy}, u_{xy}$."
   ]
  },
  {
   "cell_type": "code",
   "execution_count": null,
   "metadata": {},
   "outputs": [],
   "source": [
    "from sympy import *\n",
    "x, y, u = symbols('x, y, u')\n",
    "u = exp(x / y)\n",
    "u"
   ]
  },
  {
   "cell_type": "code",
   "execution_count": null,
   "metadata": {},
   "outputs": [],
   "source": [
    "ux = diff(u, x)\n",
    "ux"
   ]
  },
  {
   "cell_type": "code",
   "execution_count": null,
   "metadata": {},
   "outputs": [],
   "source": [
    "uy = diff(u, y)\n",
    "uy"
   ]
  },
  {
   "cell_type": "code",
   "execution_count": null,
   "metadata": {},
   "outputs": [],
   "source": [
    "uxx = diff(ux, x)\n",
    "uxx"
   ]
  },
  {
   "cell_type": "code",
   "execution_count": null,
   "metadata": {},
   "outputs": [],
   "source": [
    "uxx1 = diff(u, x, 2)\n",
    "uxx1"
   ]
  },
  {
   "cell_type": "code",
   "execution_count": null,
   "metadata": {},
   "outputs": [],
   "source": [
    "uyy = diff(uy, y)\n",
    "simplify(uyy)"
   ]
  },
  {
   "cell_type": "code",
   "execution_count": null,
   "metadata": {},
   "outputs": [],
   "source": [
    "uyy1 = diff(u, y, 2)\n",
    "simplify(uyy1)"
   ]
  },
  {
   "cell_type": "code",
   "execution_count": null,
   "metadata": {},
   "outputs": [],
   "source": [
    "uxy = diff(ux, y)\n",
    "uxy"
   ]
  },
  {
   "cell_type": "code",
   "execution_count": null,
   "metadata": {},
   "outputs": [],
   "source": [
    "uyx = diff(uy, x)\n",
    "uyx"
   ]
  },
  {
   "cell_type": "markdown",
   "metadata": {},
   "source": [
    "2. If $f(x, y) = tan^{-1}(\\frac{x}{y})$, find $u_{x}, u_{y}, u_{yx}, u_{xy}$."
   ]
  },
  {
   "cell_type": "code",
   "execution_count": null,
   "metadata": {},
   "outputs": [],
   "source": [
    "f = atan(x/y)\n",
    "f"
   ]
  },
  {
   "cell_type": "markdown",
   "metadata": {},
   "source": [
    "It is not necessary to define `f` as a symbol since it is used to define a function and not inside the function. `f` takes the defined expression as its value. But if defined as a symbol, it will not result in any errors. "
   ]
  },
  {
   "cell_type": "code",
   "execution_count": null,
   "metadata": {},
   "outputs": [],
   "source": [
    "diff(f, x)"
   ]
  },
  {
   "cell_type": "code",
   "execution_count": null,
   "metadata": {},
   "outputs": [],
   "source": [
    "diff(f, y)"
   ]
  },
  {
   "cell_type": "code",
   "execution_count": null,
   "metadata": {},
   "outputs": [],
   "source": [
    "simplify(diff(f, y, x))"
   ]
  },
  {
   "cell_type": "code",
   "execution_count": null,
   "metadata": {},
   "outputs": [],
   "source": [
    "simplify(diff(f, x, y))"
   ]
  },
  {
   "cell_type": "markdown",
   "metadata": {},
   "source": [
    "Observe that the above two results are same, proving $\\frac{\\partial^2 F}{\\partial x \\partial y}$"
   ]
  },
  {
   "cell_type": "markdown",
   "metadata": {},
   "source": [
    "4. If $f(x, u) = x^{y} + y^{x}$, find $f_{x}, f_{y}, f_{xx}, f_{yy}, f_{xxx}, f_{yyy}, f_{xxy}, f_{xyy}, f_{yxy}$"
   ]
  },
  {
   "cell_type": "code",
   "execution_count": null,
   "metadata": {},
   "outputs": [],
   "source": [
    "f = x**y + y**x\n",
    "f"
   ]
  },
  {
   "cell_type": "code",
   "execution_count": null,
   "metadata": {},
   "outputs": [],
   "source": [
    "diff(f, x)"
   ]
  },
  {
   "cell_type": "code",
   "execution_count": null,
   "metadata": {},
   "outputs": [],
   "source": [
    "diff(f, y)"
   ]
  },
  {
   "cell_type": "code",
   "execution_count": null,
   "metadata": {},
   "outputs": [],
   "source": [
    "diff(f, x, 2)"
   ]
  },
  {
   "cell_type": "code",
   "execution_count": null,
   "metadata": {},
   "outputs": [],
   "source": [
    "diff(f, y, 2)"
   ]
  },
  {
   "cell_type": "code",
   "execution_count": null,
   "metadata": {},
   "outputs": [],
   "source": [
    "diff(f, x, 3)"
   ]
  },
  {
   "cell_type": "code",
   "execution_count": null,
   "metadata": {},
   "outputs": [],
   "source": [
    "diff(f, y, 3)"
   ]
  },
  {
   "cell_type": "code",
   "execution_count": null,
   "metadata": {},
   "outputs": [],
   "source": [
    "fxxy = diff(f, y, x, x)\n",
    "fxxy"
   ]
  },
  {
   "cell_type": "code",
   "execution_count": null,
   "metadata": {},
   "outputs": [],
   "source": [
    "fxyy = diff(f, y, y, x)\n",
    "fxyy"
   ]
  },
  {
   "cell_type": "code",
   "execution_count": null,
   "metadata": {},
   "outputs": [],
   "source": [
    "fyxy = diff(f, y, x, y)\n",
    "fyxy"
   ]
  },
  {
   "cell_type": "markdown",
   "metadata": {},
   "source": [
    "If $z = (1 - 2xy + y^{2})^{-1}$, show that $x \\frac{\\partial{z}}{\\partial{x}} - \\frac{\\partial{z}}{\\partial{y}} = y^{2} z^{3}$"
   ]
  },
  {
   "cell_type": "code",
   "execution_count": null,
   "metadata": {},
   "outputs": [],
   "source": [
    "x, y, z = symbols('x y z')\n",
    "z = 1/sqrt(1 - 2 * x * y + y**2)\n",
    "z"
   ]
  },
  {
   "cell_type": "code",
   "execution_count": null,
   "metadata": {},
   "outputs": [],
   "source": [
    "z1 = simplify(x * diff(z, x) - y * diff(z, y))\n",
    "z1"
   ]
  },
  {
   "cell_type": "code",
   "execution_count": null,
   "metadata": {},
   "outputs": [],
   "source": [
    "z2 = y**2 * z**3\n",
    "z2"
   ]
  },
  {
   "cell_type": "code",
   "execution_count": null,
   "metadata": {},
   "outputs": [],
   "source": [
    "z1 == z2"
   ]
  },
  {
   "cell_type": "markdown",
   "metadata": {},
   "source": [
    "5. If $x = r cos(\\theta)$ and $y = r sin(\\theta)$, Find $\\frac{\\partial{r}}{\\partial{x}}$, $\\frac{\\partial{r}}{\\partial{y}}$, $\\frac{\\partial{\\theta}}{\\partial{x}}$, $\\frac{\\partial{\\theta}}{\\partial{y}}$.<br> Show that $\\left(\\frac{\\partial{r}}{\\partial{x}}\\right)^{2} + \\left(\\frac{\\partial{r}}{\\partial{y}}\\right)^{2} = 1$ , $\\frac{\\partial^{2}{\\theta}}{\\partial{x}^{2}} + \\frac{\\partial^{2}{\\theta}}{\\partial{y}^{2}} = 0$ and $\\frac{\\partial^{2}{r}}{\\partial{x}^{2}} . \\frac{\\partial^{2}{r}}{\\partial{y}^{2}} = \\frac{\\partial^{2}{r}}{\\partial{x}\\partial{y}}^{2}$"
   ]
  },
  {
   "cell_type": "markdown",
   "metadata": {},
   "source": [
    "Before solving, observe that that differentiating variables are $x$ and $y$. So we first convert the given equations as functions fo $x$ and $y$, $r (x, y)$ and $\\theta (x, y)$"
   ]
  },
  {
   "cell_type": "code",
   "execution_count": null,
   "metadata": {},
   "outputs": [],
   "source": [
    "x, y, r, theta = symbols('x y r theta')\n",
    "r = sqrt(x**2 + y**2)\n",
    "theta = atan(y/x)"
   ]
  },
  {
   "cell_type": "code",
   "execution_count": null,
   "metadata": {},
   "outputs": [],
   "source": [
    "diff(r, x)"
   ]
  },
  {
   "cell_type": "code",
   "execution_count": null,
   "metadata": {},
   "outputs": [],
   "source": [
    "diff(r, y)"
   ]
  },
  {
   "cell_type": "code",
   "execution_count": null,
   "metadata": {},
   "outputs": [],
   "source": [
    "simplify(diff(theta, x))"
   ]
  },
  {
   "cell_type": "code",
   "execution_count": null,
   "metadata": {},
   "outputs": [],
   "source": [
    "simplify(diff(theta, y))"
   ]
  },
  {
   "cell_type": "code",
   "execution_count": null,
   "metadata": {},
   "outputs": [],
   "source": [
    "simplify(diff(r, x)**2 + diff(r, y)**2)"
   ]
  },
  {
   "cell_type": "code",
   "execution_count": null,
   "metadata": {},
   "outputs": [],
   "source": [
    "simplify(diff(theta, x, 2) + diff(theta, y, 2))"
   ]
  },
  {
   "cell_type": "code",
   "execution_count": null,
   "metadata": {},
   "outputs": [],
   "source": [
    "l1 = diff(r, x, 2)\n",
    "l1"
   ]
  },
  {
   "cell_type": "code",
   "execution_count": null,
   "metadata": {},
   "outputs": [],
   "source": [
    "l2 = diff(r, y, 2)\n",
    "l2"
   ]
  },
  {
   "cell_type": "code",
   "execution_count": null,
   "metadata": {},
   "outputs": [],
   "source": [
    "l1 * l2"
   ]
  },
  {
   "cell_type": "code",
   "execution_count": null,
   "metadata": {},
   "outputs": [],
   "source": [
    "lhs = simplify(l1 * l2)"
   ]
  },
  {
   "cell_type": "code",
   "execution_count": null,
   "metadata": {},
   "outputs": [],
   "source": [
    "rhs = diff(r, y, x)**2"
   ]
  },
  {
   "cell_type": "code",
   "execution_count": null,
   "metadata": {},
   "outputs": [],
   "source": [
    "lhs == rhs"
   ]
  },
  {
   "cell_type": "markdown",
   "metadata": {},
   "source": [
    "Or just use the simple command as below:"
   ]
  },
  {
   "cell_type": "code",
   "execution_count": null,
   "metadata": {},
   "outputs": [],
   "source": [
    "simplify(diff(r, x, 2) * diff(r, y, 2)) == diff(r, y, x)**2"
   ]
  },
  {
   "cell_type": "markdown",
   "metadata": {},
   "source": [
    "## Euler's theorem, its extension and Jacobian"
   ]
  },
  {
   "cell_type": "code",
   "execution_count": 7,
   "metadata": {},
   "outputs": [],
   "source": [
    "a, b, h, u, v, x, y = symbols('a b h u v x y')"
   ]
  },
  {
   "cell_type": "markdown",
   "metadata": {},
   "source": [
    "1. If $u = ax^{2} + 2hxy + by^{2}$, verify Euler's theorem."
   ]
  },
  {
   "cell_type": "code",
   "execution_count": null,
   "metadata": {},
   "outputs": [],
   "source": [
    "# 1.\n",
    "u = a * x**2 + 2 * h * x * y + b * y**2\n",
    "u"
   ]
  },
  {
   "cell_type": "code",
   "execution_count": null,
   "metadata": {},
   "outputs": [],
   "source": [
    "n = 2"
   ]
  },
  {
   "cell_type": "code",
   "execution_count": null,
   "metadata": {},
   "outputs": [],
   "source": [
    "ux = diff(u, x)\n",
    "ux"
   ]
  },
  {
   "cell_type": "code",
   "execution_count": null,
   "metadata": {},
   "outputs": [],
   "source": [
    "uy = diff(u, y)\n",
    "uy"
   ]
  },
  {
   "cell_type": "code",
   "execution_count": null,
   "metadata": {},
   "outputs": [],
   "source": [
    "lhs = factor(x * ux + y * uy)\n",
    "lhs"
   ]
  },
  {
   "cell_type": "code",
   "execution_count": null,
   "metadata": {},
   "outputs": [],
   "source": [
    "rhs = factor(2 * u)\n",
    "rhs"
   ]
  },
  {
   "cell_type": "code",
   "execution_count": null,
   "metadata": {},
   "outputs": [],
   "source": [
    "lhs == rhs"
   ]
  },
  {
   "cell_type": "markdown",
   "metadata": {},
   "source": [
    "Or use the one line code as shown below."
   ]
  },
  {
   "cell_type": "code",
   "execution_count": null,
   "metadata": {},
   "outputs": [],
   "source": [
    "factor(x * diff(u, x) + y * diff(u, y)) == factor(n * u)"
   ]
  },
  {
   "cell_type": "markdown",
   "metadata": {},
   "source": [
    "2. If $u = log\\left(\\frac{x^{3} + x^{2}y - y^{2}x + 2y^{3}}{x + y}\\right)$, prove <br>\n",
    "$x \\frac{\\partial u}{\\partial x} + y \\frac{\\partial u}{\\partial y} = 2$ <br>\n",
    "$x^{2} \\frac{\\partial^2 u}{\\partial x^2} + 2xy \\frac{\\partial^2 f}{{\\partial x}{\\partial y}} + y^{2} \\frac{\\partial^2 f}{\\partial y^2} = -2$ "
   ]
  },
  {
   "cell_type": "code",
   "execution_count": 9,
   "metadata": {},
   "outputs": [
    {
     "data": {
      "text/latex": [
       "$\\displaystyle \\log{\\left(\\frac{x^{3} + x^{2} y - x y^{2} + 2 y^{3}}{x + y} \\right)}$"
      ],
      "text/plain": [
       "log((x**3 + x**2*y - x*y**2 + 2*y**3)/(x + y))"
      ]
     },
     "execution_count": 9,
     "metadata": {},
     "output_type": "execute_result"
    }
   ],
   "source": [
    "u = log((x**3 + x**2 * y - y**2 * x + 2 * y**3) / (x + y))\n",
    "u"
   ]
  },
  {
   "cell_type": "code",
   "execution_count": 10,
   "metadata": {},
   "outputs": [
    {
     "data": {
      "text/latex": [
       "$\\displaystyle 2$"
      ],
      "text/plain": [
       "2"
      ]
     },
     "execution_count": 10,
     "metadata": {},
     "output_type": "execute_result"
    }
   ],
   "source": [
    "simplify(x * diff(u, x) + y * diff(u, y))"
   ]
  },
  {
   "cell_type": "code",
   "execution_count": 11,
   "metadata": {},
   "outputs": [
    {
     "data": {
      "text/plain": [
       "True"
      ]
     },
     "execution_count": 11,
     "metadata": {},
     "output_type": "execute_result"
    }
   ],
   "source": [
    "simplify(x * diff(u, x) + y * diff(u, y)) == 2"
   ]
  },
  {
   "cell_type": "code",
   "execution_count": 12,
   "metadata": {},
   "outputs": [
    {
     "data": {
      "text/plain": [
       "True"
      ]
     },
     "execution_count": 12,
     "metadata": {},
     "output_type": "execute_result"
    }
   ],
   "source": [
    "simplify(x**2 * diff(u, x, 2) + 2 * x * y * diff(u, x, y) + y**2 * diff(u, y, 2)) == -2"
   ]
  },
  {
   "cell_type": "markdown",
   "metadata": {},
   "source": [
    "3. If $u = \\frac{x}{y} cos(xy)$, prove $x \\frac{\\partial u}{\\partial x} - y \\frac{\\partial u}{\\partial y} = 2u$"
   ]
  },
  {
   "cell_type": "code",
   "execution_count": 23,
   "metadata": {},
   "outputs": [
    {
     "data": {
      "text/plain": [
       "True"
      ]
     },
     "execution_count": 23,
     "metadata": {},
     "output_type": "execute_result"
    }
   ],
   "source": [
    "u = (x / y) * cos(x * y)\n",
    "simplify(x * diff(u, x) - y * diff(u, y)) == 2 * u"
   ]
  },
  {
   "cell_type": "code",
   "execution_count": 20,
   "metadata": {},
   "outputs": [
    {
     "data": {
      "text/latex": [
       "$\\displaystyle \\frac{2 x \\cos{\\left(x y \\right)}}{y}$"
      ],
      "text/plain": [
       "2*x*cos(x*y)/y"
      ]
     },
     "execution_count": 20,
     "metadata": {},
     "output_type": "execute_result"
    }
   ],
   "source": [
    "simplify(x * diff(u, x) - y * diff(u, y))"
   ]
  },
  {
   "cell_type": "code",
   "execution_count": 21,
   "metadata": {},
   "outputs": [
    {
     "data": {
      "text/latex": [
       "$\\displaystyle \\frac{2 x \\cos{\\left(x y \\right)}}{y}$"
      ],
      "text/plain": [
       "2*x*cos(x*y)/y"
      ]
     },
     "execution_count": 21,
     "metadata": {},
     "output_type": "execute_result"
    }
   ],
   "source": [
    "2 * u"
   ]
  },
  {
   "cell_type": "markdown",
   "metadata": {},
   "source": [
    "4. If $u = sin^{-1}\\left(\\frac{x^{2} + y^{2}}{x + y}\\right)$, show that $x \\frac{\\partial u}{\\partial x} + y \\frac{\\partial u}{\\partial y} = tan(u)$"
   ]
  },
  {
   "cell_type": "code",
   "execution_count": 14,
   "metadata": {},
   "outputs": [
    {
     "data": {
      "text/latex": [
       "$\\displaystyle \\operatorname{asin}{\\left(\\frac{x^{2} + y^{2}}{x + y} \\right)}$"
      ],
      "text/plain": [
       "asin((x**2 + y**2)/(x + y))"
      ]
     },
     "execution_count": 14,
     "metadata": {},
     "output_type": "execute_result"
    }
   ],
   "source": [
    "u = asin((x**2 + y**2) / (x + y))\n",
    "u"
   ]
  },
  {
   "cell_type": "code",
   "execution_count": 15,
   "metadata": {},
   "outputs": [
    {
     "data": {
      "text/latex": [
       "$\\displaystyle \\frac{\\frac{2 x}{x + y} - \\frac{x^{2} + y^{2}}{\\left(x + y\\right)^{2}}}{\\sqrt{1 - \\frac{\\left(x^{2} + y^{2}\\right)^{2}}{\\left(x + y\\right)^{2}}}}$"
      ],
      "text/plain": [
       "(2*x/(x + y) - (x**2 + y**2)/(x + y)**2)/sqrt(1 - (x**2 + y**2)**2/(x + y)**2)"
      ]
     },
     "execution_count": 15,
     "metadata": {},
     "output_type": "execute_result"
    }
   ],
   "source": [
    "diff(u, x)"
   ]
  },
  {
   "cell_type": "code",
   "execution_count": 16,
   "metadata": {},
   "outputs": [
    {
     "data": {
      "text/latex": [
       "$\\displaystyle \\frac{\\frac{2 y}{x + y} - \\frac{x^{2} + y^{2}}{\\left(x + y\\right)^{2}}}{\\sqrt{1 - \\frac{\\left(x^{2} + y^{2}\\right)^{2}}{\\left(x + y\\right)^{2}}}}$"
      ],
      "text/plain": [
       "(2*y/(x + y) - (x**2 + y**2)/(x + y)**2)/sqrt(1 - (x**2 + y**2)**2/(x + y)**2)"
      ]
     },
     "execution_count": 16,
     "metadata": {},
     "output_type": "execute_result"
    }
   ],
   "source": [
    "diff(u, y)"
   ]
  },
  {
   "cell_type": "code",
   "execution_count": 17,
   "metadata": {},
   "outputs": [
    {
     "data": {
      "text/latex": [
       "$\\displaystyle \\frac{x^{2} + y^{2}}{\\sqrt{- \\frac{\\left(x^{2} - x + y^{2} - y\\right) \\left(x^{2} + x + y^{2} + y\\right)}{x^{2} + 2 x y + y^{2}}} \\left(x + y\\right)}$"
      ],
      "text/plain": [
       "(x**2 + y**2)/(sqrt(-(x**2 - x + y**2 - y)*(x**2 + x + y**2 + y)/(x**2 + 2*x*y + y**2))*(x + y))"
      ]
     },
     "execution_count": 17,
     "metadata": {},
     "output_type": "execute_result"
    }
   ],
   "source": [
    "lhs = factor(x * diff(u, x) + y * diff(u, y))\n",
    "lhs"
   ]
  },
  {
   "cell_type": "code",
   "execution_count": 18,
   "metadata": {},
   "outputs": [
    {
     "data": {
      "text/latex": [
       "$\\displaystyle \\frac{x^{2} + y^{2}}{\\sqrt{- \\frac{\\left(x^{2} - x + y^{2} - y\\right) \\left(x^{2} + x + y^{2} + y\\right)}{x^{2} + 2 x y + y^{2}}} \\left(x + y\\right)}$"
      ],
      "text/plain": [
       "(x**2 + y**2)/(sqrt(-(x**2 - x + y**2 - y)*(x**2 + x + y**2 + y)/(x**2 + 2*x*y + y**2))*(x + y))"
      ]
     },
     "execution_count": 18,
     "metadata": {},
     "output_type": "execute_result"
    }
   ],
   "source": [
    "rhs = factor(tan(u))\n",
    "rhs"
   ]
  },
  {
   "cell_type": "code",
   "execution_count": null,
   "metadata": {},
   "outputs": [],
   "source": [
    "lhs == rhs"
   ]
  },
  {
   "cell_type": "markdown",
   "metadata": {},
   "source": [
    "5. If $u = x^{3} + y^{3} + 3x^{2}y + 3xy^{2}$, show that $x^{2} \\frac{\\partial^2 u}{\\partial x^2} + 2xy \\frac{\\partial^2 f}{{\\partial x}{\\partial y}} + y^{2} \\frac{\\partial^2 f}{\\partial y^2} = n(n - 1)u$"
   ]
  },
  {
   "cell_type": "code",
   "execution_count": null,
   "metadata": {},
   "outputs": [],
   "source": [
    "u = x**3 + y**3 + 3 * x**2 * y + 3 * x * y**2\n",
    "n = 3"
   ]
  },
  {
   "cell_type": "code",
   "execution_count": null,
   "metadata": {},
   "outputs": [],
   "source": [
    "uxx = diff(u, x, x)\n",
    "uxx"
   ]
  },
  {
   "cell_type": "code",
   "execution_count": null,
   "metadata": {},
   "outputs": [],
   "source": [
    "uyy = diff(u, y, y)\n",
    "uyy"
   ]
  },
  {
   "cell_type": "code",
   "execution_count": null,
   "metadata": {},
   "outputs": [],
   "source": [
    "uxy = diff(u, x, y)\n",
    "uxy"
   ]
  },
  {
   "cell_type": "code",
   "execution_count": null,
   "metadata": {},
   "outputs": [],
   "source": [
    "lhs = x**2 * uxx + 2 * x * y * uxy + y**2 * uyy\n",
    "lhs"
   ]
  },
  {
   "cell_type": "code",
   "execution_count": null,
   "metadata": {},
   "outputs": [],
   "source": [
    "rhs = n * (n-1) * u\n",
    "rhs"
   ]
  },
  {
   "cell_type": "code",
   "execution_count": null,
   "metadata": {},
   "outputs": [],
   "source": [
    "factor(lhs) == factor(rhs)"
   ]
  },
  {
   "cell_type": "code",
   "execution_count": null,
   "metadata": {},
   "outputs": [],
   "source": [
    "factor(x**2 * diff(u, x, 2) + 2 * x * y * diff(u, x, y) + y**2 * diff(u, y, 2))\\\n",
    "            == factor(n * (n - 1) * u)"
   ]
  },
  {
   "cell_type": "markdown",
   "metadata": {},
   "source": [
    "6. If $u = x^{3} + 2y^{3} + x^{2}y - y^{2}x$, prove $x^{2} \\frac{\\partial^2 u}{\\partial x^2} + 2xy \\frac{\\partial^2 f}{{\\partial x}{\\partial y}} + y^{2} \\frac{\\partial^2 f}{\\partial y^2} = n(n - 1)u$"
   ]
  },
  {
   "cell_type": "code",
   "execution_count": null,
   "metadata": {},
   "outputs": [],
   "source": [
    "u = x**3 + x**2 * y - y**2 * x + 2 * y**3\n",
    "n = 3\n",
    "uxx = diff(u, x, x)\n",
    "uyy = diff(u, y, y)\n",
    "uxy = diff(u, x, y)\n",
    "lhs = x**2 * uxx + 2 * x * y * uxy + y**2 * uyy\n",
    "rhs = n * (n-1) * u\n",
    "factor(lhs) == factor(rhs)"
   ]
  },
  {
   "cell_type": "code",
   "execution_count": null,
   "metadata": {},
   "outputs": [],
   "source": [
    "factor(x**2 * diff(u, x, 2) + 2 * x * y * diff(u, x, y) + y**2 * diff(u, y, 2))\\\n",
    "            == factor(n * (n - 1) * u)"
   ]
  },
  {
   "cell_type": "markdown",
   "metadata": {},
   "source": [
    "1. If $u = x^{2} - 2u$ and $v = x + y$, find the Jacobian matrix and it's determinant"
   ]
  },
  {
   "cell_type": "code",
   "execution_count": null,
   "metadata": {},
   "outputs": [],
   "source": [
    "u = x**2 - 2 * y\n",
    "v = x + y"
   ]
  },
  {
   "cell_type": "code",
   "execution_count": null,
   "metadata": {},
   "outputs": [],
   "source": [
    "U = Matrix([u, v])\n",
    "X = Matrix([x, y])"
   ]
  },
  {
   "cell_type": "code",
   "execution_count": null,
   "metadata": {},
   "outputs": [],
   "source": [
    "Jacob = U.jacobian(X)\n",
    "Jacob"
   ]
  },
  {
   "cell_type": "code",
   "execution_count": null,
   "metadata": {},
   "outputs": [],
   "source": [
    "factor(Jacob.det())"
   ]
  },
  {
   "cell_type": "markdown",
   "metadata": {},
   "source": [
    "2. If $u = 2xy$ and $v = x^{2} - y^{2}$, find the Jacobian matrix and it's determinant"
   ]
  },
  {
   "cell_type": "code",
   "execution_count": null,
   "metadata": {},
   "outputs": [],
   "source": [
    "u = 2 * x * y\n",
    "v = x**2 - y**2"
   ]
  },
  {
   "cell_type": "code",
   "execution_count": null,
   "metadata": {},
   "outputs": [],
   "source": [
    "U = Matrix([u, v])\n",
    "X = Matrix([x, y])\n",
    "Jacob = U.jacobian(X)\n",
    "Jacob"
   ]
  },
  {
   "cell_type": "code",
   "execution_count": null,
   "metadata": {},
   "outputs": [],
   "source": [
    "factor(Jacob.det())"
   ]
  },
  {
   "cell_type": "markdown",
   "metadata": {},
   "source": [
    "3. If $u = x^{2}$ and $v = y^{2}$, find the Jacobian matrix and it's determinant"
   ]
  },
  {
   "cell_type": "code",
   "execution_count": null,
   "metadata": {},
   "outputs": [],
   "source": [
    "u = x**2\n",
    "v = y**2\n",
    "U = Matrix([u, v])\n",
    "X = Matrix([x, y])\n",
    "Jacob = U.jacobian(X)\n",
    "Jacob"
   ]
  },
  {
   "cell_type": "code",
   "execution_count": null,
   "metadata": {},
   "outputs": [],
   "source": [
    "factor(Jacob.det())"
   ]
  },
  {
   "cell_type": "markdown",
   "metadata": {},
   "source": [
    "4. If $u = x + 3y^{2} - z^{3}$ , $v = 2x^{2} - yz$ and $w = 2z^{2} - xy$, find the Jacobian matrix and it's determinant"
   ]
  },
  {
   "cell_type": "code",
   "execution_count": null,
   "metadata": {},
   "outputs": [],
   "source": [
    "from sympy import *\n",
    "u, v, w, x, y, z = symbols('u v w x y z')"
   ]
  },
  {
   "cell_type": "code",
   "execution_count": null,
   "metadata": {},
   "outputs": [],
   "source": [
    "u = x + 3*y**2 - z**3\n",
    "v = 2*x**2 - y * z\n",
    "w = 2*z**2 - x*y\n",
    "U = Matrix([u, v, w])\n",
    "X = Matrix([x, y, z])\n",
    "Jacob = U.jacobian(X)\n",
    "Jacob"
   ]
  },
  {
   "cell_type": "code",
   "execution_count": null,
   "metadata": {},
   "outputs": [],
   "source": [
    "factor(Jacob.det())"
   ]
  },
  {
   "cell_type": "markdown",
   "metadata": {},
   "source": [
    "5. If $u =  \\frac{xy}{z}$ , $v = \\frac{yz}{x}$ and $\\frac{zx}{y}$, find the Jacobian matrix and it's determinant"
   ]
  },
  {
   "cell_type": "code",
   "execution_count": null,
   "metadata": {},
   "outputs": [],
   "source": [
    "u = x * y / z\n",
    "v = y * z / x\n",
    "w = z * x / y\n",
    "U = Matrix([u, v, w])\n",
    "X = Matrix([x, y, z])\n",
    "Jacob = U.jacobian(X)\n",
    "Jacob"
   ]
  },
  {
   "cell_type": "code",
   "execution_count": null,
   "metadata": {},
   "outputs": [],
   "source": [
    "factor(Jacob.det())"
   ]
  }
 ],
 "metadata": {
  "kernelspec": {
   "display_name": "Python 3",
   "language": "python",
   "name": "python3"
  },
  "language_info": {
   "codemirror_mode": {
    "name": "ipython",
    "version": 3
   },
   "file_extension": ".py",
   "mimetype": "text/x-python",
   "name": "python",
   "nbconvert_exporter": "python",
   "pygments_lexer": "ipython3",
   "version": "3.8.8"
  }
 },
 "nbformat": 4,
 "nbformat_minor": 4
}
